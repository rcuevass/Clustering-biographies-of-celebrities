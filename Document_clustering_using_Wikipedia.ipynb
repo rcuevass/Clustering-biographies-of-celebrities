{
 "cells": [
  {
   "cell_type": "markdown",
   "metadata": {},
   "source": [
    "# Clustering biography of 100 Time more influencial people 2015"
   ]
  },
  {
   "cell_type": "code",
   "execution_count": 1,
   "metadata": {
    "collapsed": false
   },
   "outputs": [],
   "source": [
    "# We import needed libraries...\n",
    "# Wikipedia library to extract biographies of people...\n",
    "import wikipedia\n",
    "# os to interact with the operating system\n",
    "import os\n",
    "# Pandas to manage data analysis and data frames\n",
    "import pandas as pd\n",
    "# re to make use of regular expressions\n",
    "import re\n",
    "# argv to manage arguments in command line (in case we need it)\n",
    "from sys import argv\n",
    "# numpy for numerical work\n",
    "import numpy as np\n",
    "# nltk for natural language processing\n",
    "import nltk\n",
    "# \n",
    "import codecs\n",
    "# Use of sklearn to manage feature extraction\n",
    "from sklearn import feature_extraction\n",
    "# \n",
    "import mpld3"
   ]
  },
  {
   "cell_type": "markdown",
   "metadata": {},
   "source": [
    "We read file that contains names of celebrities and check the names once we have loaded the file"
   ]
  },
  {
   "cell_type": "code",
   "execution_count": 2,
   "metadata": {
    "collapsed": false
   },
   "outputs": [],
   "source": [
    "file = open('List100-2015.txt', 'r')\n",
    "raw_names = file.readlines()\n"
   ]
  },
  {
   "cell_type": "code",
   "execution_count": 3,
   "metadata": {
    "collapsed": false
   },
   "outputs": [
    {
     "name": "stdout",
     "output_type": "stream",
     "text": [
      "Kayne West  Titan\n",
      "\n",
      "Lorne Michaels Titan\n",
      "\n",
      "Mellody Hobson Titan\n",
      "\n",
      "Tim Cook Titan\n",
      "\n",
      "Elizabeth Holmes Titan\n",
      "\n",
      "Charles Koch & David Koch Titan\n",
      "\n",
      "Susan Wojcicki Titan\n",
      "\n",
      "Chanda Kochhar Titan\n",
      "\n",
      "Tony Fernandes Titan\n",
      "\n",
      "Lee Daniels Titan\n",
      "\n",
      "Reid Hoffman Titan\n",
      "\n",
      "Kim Kardashian Titan\n",
      "\n",
      "Janet Yellen Titan\n",
      "\n",
      "Danny Meyer Titan\n",
      "\n",
      "Lei Jun Titan\n",
      "\n",
      "Bob Iger Titan\n",
      "\n",
      "Satya Nadella Titan\n",
      "\n",
      "Jorge Paulo Lemann Titan\n",
      "\n",
      "Misty Copeland Pioneer\n",
      "\n",
      "Scott Kelly (astronaut) Pioneer\n",
      "\n",
      "Emmanuelle Charpentier & Jennifer Doudna Pioneer\n",
      "\n",
      "Brian Chesky Pioneer\n",
      "\n",
      "Jimmy Lai Pioneer\n",
      "\n",
      "Emma Watson Pioneer\n",
      "\n",
      "Vikram Patel Pioneer\n",
      "\n",
      "Pardis Sabeti Pioneer\n",
      "\n",
      "Reese Witherspoon Pioneer\n",
      "\n",
      "Bryan Stevenson Pioneer\n",
      "\n",
      "Chai Jing Pioneer\n",
      "\n",
      "Magnus MacFarlane-Barrow Pioneer\n",
      "\n",
      "Kira Orange Jones Pioneer\n",
      "\n",
      "Aura Elena Farfan Pioneer\n",
      "\n",
      "Martin Blaser Pioneer\n",
      "\n",
      "Anita Sarkeesian Pioneer\n",
      "\n",
      "Tom Catena Pioneer\n",
      "\n",
      "Rudolph Tanzi Pioneer\n",
      "\n",
      "Mustafa Hassan Pioneer\n",
      "\n",
      "Laverne Cox Pioneer\n",
      "\n",
      "Sarah Koenig Pioneer\n",
      "\n",
      "Bradley Cooper Artist\n",
      "\n",
      "Richard Linklater Artist\n",
      "\n",
      "Chris Ofili Artist\n",
      "\n",
      "Julianna Margulies Artist\n",
      "\n",
      "Amy Shumer Artist\n",
      "\n",
      "Alexander Wang (designer) Artist\n",
      "\n",
      "Jill Soloway Artist\n",
      "\n",
      "Chris Pratt Artist\n",
      "\n",
      "Audra McDonald Artist\n",
      "\n",
      "Tim McGraw Artist\n",
      "\n",
      "Kevin Hart Artist\n",
      "\n",
      "Chimamanda Ngozi Adichie Artist\n",
      "\n",
      "Julianne Moore Artist\n",
      "\n",
      "Christopher Nolan Artist\n",
      "\n",
      "Marie Kondo Artist\n",
      "\n",
      "John Oliver (comedian) Artist\n",
      "\n",
      "Jorge Ramos (news anchor) Leader\n",
      "\n",
      "Narendra Modi Leader\n",
      "\n",
      "Angela Merkel Leader\n",
      "\n",
      "Bob Corker Leader\n",
      "\n",
      "Rula Ghani Leader\n",
      "\n",
      "Muhammadu Buhari Leader\n",
      "\n",
      "Alexis Tsipras Leader\n",
      "\n",
      "Vladimir Putin Leader\n",
      "\n",
      "Obiageli Ezekwesili Leader\n",
      "\n",
      "Elizabeth Warren Leader\n",
      "\n",
      "Haider al-Abadi Leader\n",
      "\n",
      "Joko Widodo Leader\n",
      "\n",
      "King Salman bin Abdulaziz Al Saud Leader\n",
      "\n",
      "Xi Jinping Leader\n",
      "\n",
      "Jeb bush Leader\n",
      "\n",
      "Tom Frieden Leader\n",
      "\n",
      "Samantha Power  Leader\n",
      "\n",
      "Raul Castro Leader\n",
      "\n",
      "Kim Jong Un Leader\n",
      "\n",
      "Abubakar Shekau Leader\n",
      "\n",
      "Benjamin Netenyahu Leader\n",
      "\n",
      "Hillary Clinton Leader\n",
      "\n",
      "Martin Dempsey Leader\n",
      "\n",
      "Beji Caid Essebsi Leader\n",
      "\n",
      "Adam Silver Leader\n",
      "\n",
      "Lu Wei (politician) Leader\n",
      "\n",
      "Marine Le Pen Leader\n",
      "\n",
      "Barack Obama Leader\n",
      "\n",
      "Mitch McConnell Leader\n",
      "\n",
      "Mohammad Javad Zarif Leader\n",
      "\n",
      "Joanne Liu Leader\n",
      "\n",
      "Ruth Bader Ginsburg Icon\n",
      "\n",
      "Taylor Swift Icon\n",
      "\n",
      "Diane von Furstenberg Icon\n",
      "\n",
      "Gabriel Medina Icon\n",
      "\n",
      "Haruki Murakami Icon\n",
      "\n",
      "Bjork Icon\n",
      "\n",
      "Jerry Brown Icon\n",
      "\n",
      "Abby Wambach Icon\n",
      "\n",
      "Ina Garten Icon\n",
      "\n",
      "Thomas Piketty Icon\n",
      "\n",
      "Malala Yousafzai Icon\n",
      "\n",
      "Pope Francis  Icon\n",
      "\n"
     ]
    }
   ],
   "source": [
    "names = []\n",
    "for name in raw_names:\n",
    "    #aux = name.split('\\t')\n",
    "    names.append(name.split('\\t')[0])\n",
    "    print name.split('\\t')[0] , name.split('\\t')[len(name.split('\\t'))-1] "
   ]
  },
  {
   "cell_type": "code",
   "execution_count": 4,
   "metadata": {
    "collapsed": false
   },
   "outputs": [
    {
     "data": {
      "text/plain": [
       "['Kayne West ',\n",
       " 'Lorne Michaels',\n",
       " 'Mellody Hobson',\n",
       " 'Tim Cook',\n",
       " 'Elizabeth Holmes',\n",
       " 'Charles Koch & David Koch',\n",
       " 'Susan Wojcicki',\n",
       " 'Chanda Kochhar',\n",
       " 'Tony Fernandes',\n",
       " 'Lee Daniels',\n",
       " 'Reid Hoffman',\n",
       " 'Kim Kardashian',\n",
       " 'Janet Yellen',\n",
       " 'Danny Meyer',\n",
       " 'Lei Jun',\n",
       " 'Bob Iger',\n",
       " 'Satya Nadella',\n",
       " 'Jorge Paulo Lemann',\n",
       " 'Misty Copeland',\n",
       " 'Scott Kelly (astronaut)',\n",
       " 'Emmanuelle Charpentier & Jennifer Doudna',\n",
       " 'Brian Chesky',\n",
       " 'Jimmy Lai',\n",
       " 'Emma Watson',\n",
       " 'Vikram Patel',\n",
       " 'Pardis Sabeti',\n",
       " 'Reese Witherspoon',\n",
       " 'Bryan Stevenson',\n",
       " 'Chai Jing',\n",
       " 'Magnus MacFarlane-Barrow',\n",
       " 'Kira Orange Jones',\n",
       " 'Aura Elena Farfan',\n",
       " 'Martin Blaser',\n",
       " 'Anita Sarkeesian',\n",
       " 'Tom Catena',\n",
       " 'Rudolph Tanzi',\n",
       " 'Mustafa Hassan',\n",
       " 'Laverne Cox',\n",
       " 'Sarah Koenig',\n",
       " 'Bradley Cooper',\n",
       " 'Richard Linklater',\n",
       " 'Chris Ofili',\n",
       " 'Julianna Margulies',\n",
       " 'Amy Shumer',\n",
       " 'Alexander Wang (designer)',\n",
       " 'Jill Soloway',\n",
       " 'Chris Pratt',\n",
       " 'Audra McDonald',\n",
       " 'Tim McGraw',\n",
       " 'Kevin Hart',\n",
       " 'Chimamanda Ngozi Adichie',\n",
       " 'Julianne Moore',\n",
       " 'Christopher Nolan',\n",
       " 'Marie Kondo',\n",
       " 'John Oliver (comedian)',\n",
       " 'Jorge Ramos (news anchor)',\n",
       " 'Narendra Modi',\n",
       " 'Angela Merkel',\n",
       " 'Bob Corker',\n",
       " 'Rula Ghani',\n",
       " 'Muhammadu Buhari',\n",
       " 'Alexis Tsipras',\n",
       " 'Vladimir Putin',\n",
       " 'Obiageli Ezekwesili',\n",
       " 'Elizabeth Warren',\n",
       " 'Haider al-Abadi',\n",
       " 'Joko Widodo',\n",
       " 'King Salman bin Abdulaziz Al Saud',\n",
       " 'Xi Jinping',\n",
       " 'Jeb bush',\n",
       " 'Tom Frieden',\n",
       " 'Samantha Power ',\n",
       " 'Raul Castro',\n",
       " 'Kim Jong Un',\n",
       " 'Abubakar Shekau',\n",
       " 'Benjamin Netenyahu',\n",
       " 'Hillary Clinton',\n",
       " 'Martin Dempsey',\n",
       " 'Beji Caid Essebsi',\n",
       " 'Adam Silver',\n",
       " 'Lu Wei (politician)',\n",
       " 'Marine Le Pen',\n",
       " 'Barack Obama',\n",
       " 'Mitch McConnell',\n",
       " 'Mohammad Javad Zarif',\n",
       " 'Joanne Liu',\n",
       " 'Ruth Bader Ginsburg',\n",
       " 'Taylor Swift',\n",
       " 'Diane von Furstenberg',\n",
       " 'Gabriel Medina',\n",
       " 'Haruki Murakami',\n",
       " 'Bjork',\n",
       " 'Jerry Brown',\n",
       " 'Abby Wambach',\n",
       " 'Ina Garten',\n",
       " 'Thomas Piketty',\n",
       " 'Malala Yousafzai',\n",
       " 'Pope Francis ']"
      ]
     },
     "execution_count": 4,
     "metadata": {},
     "output_type": "execute_result"
    }
   ],
   "source": [
    "names"
   ]
  },
  {
   "cell_type": "markdown",
   "metadata": {},
   "source": [
    "We now print out all the names, one by one, an by doing so we will get "
   ]
  },
  {
   "cell_type": "code",
   "execution_count": 5,
   "metadata": {
    "collapsed": false
   },
   "outputs": [],
   "source": [
    "def bio_names(raw_names):\n",
    "    \"\"\" \n",
    "       Function that returns list and dictionary with content of celebritie's \n",
    "       biography from Wikipedia\n",
    "    \"\"\"\n",
    "    bio_list = []\n",
    "    bio_dict = {}\n",
    "    category_list = []\n",
    "    category_dict = {}\n",
    "    # Set counter to zero\n",
    "    k = 0\n",
    "    # For each name in the list of names...\n",
    "    for name in raw_names:\n",
    "        # We increase counter\n",
    "        k +=1        \n",
    "        # print number and name stripped from \"chomp\"\n",
    "        aux_name = name.split('\\t')[0]\n",
    "        aux_category = name.split('\\t')[len(name.split('\\t'))-1] \n",
    "        print k , aux_name #.strip('\\n')\n",
    "        # Load wikipedia information from the person in turn...\n",
    "        p = wikipedia.page(aux_name)\n",
    "        # ... get the content...\n",
    "        wiki_content = p.content\n",
    "        # We manage content extracted from Wikipedia by eliminating the \"chomp\" \n",
    "        # followed by regular expressions.\n",
    "        wiki_content = wiki_content.replace('\\n',' ')\n",
    "        wiki_content = re.sub(r'[^a-z0-9\\s]', '', wiki_content.strip().lower())    \n",
    "        # ... and append it to the corresponding lists and dictionaries\n",
    "        bio_list.append(wiki_content)\n",
    "        bio_dict[aux_name]= wiki_content \n",
    "        category_list.append(aux_category.strip('\\n'))\n",
    "        category_dict[aux_name]= aux_category.strip('\\n')\n",
    "    # Display message to indicate we are finished\n",
    "    print 'Done'\n",
    "    return bio_list, bio_dict, category_list, category_dict"
   ]
  },
  {
   "cell_type": "code",
   "execution_count": 6,
   "metadata": {
    "collapsed": false
   },
   "outputs": [
    {
     "name": "stdout",
     "output_type": "stream",
     "text": [
      "1 Kayne West \n",
      "2 Lorne Michaels\n",
      "3 Mellody Hobson\n",
      "4 Tim Cook\n",
      "5 Elizabeth Holmes\n",
      "6 Charles Koch & David Koch\n",
      "7 Susan Wojcicki\n",
      "8 Chanda Kochhar\n",
      "9 Tony Fernandes\n",
      "10 Lee Daniels\n",
      "11 Reid Hoffman\n",
      "12 Kim Kardashian\n",
      "13 Janet Yellen\n",
      "14 Danny Meyer\n",
      "15 Lei Jun\n",
      "16 Bob Iger\n",
      "17 Satya Nadella\n",
      "18 Jorge Paulo Lemann\n",
      "19 Misty Copeland\n",
      "20 Scott Kelly (astronaut)\n",
      "21 Emmanuelle Charpentier & Jennifer Doudna\n",
      "22 Brian Chesky\n",
      "23 Jimmy Lai\n",
      "24 Emma Watson\n",
      "25 Vikram Patel\n",
      "26 Pardis Sabeti\n",
      "27 Reese Witherspoon\n",
      "28 Bryan Stevenson\n",
      "29 Chai Jing\n",
      "30 Magnus MacFarlane-Barrow\n",
      "31 Kira Orange Jones\n",
      "32 Aura Elena Farfan\n",
      "33 Martin Blaser\n",
      "34 Anita Sarkeesian\n",
      "35 Tom Catena\n",
      "36 Rudolph Tanzi\n",
      "37 Mustafa Hassan\n",
      "38 Laverne Cox\n",
      "39 Sarah Koenig\n",
      "40 Bradley Cooper\n",
      "41 Richard Linklater\n",
      "42 Chris Ofili\n",
      "43 Julianna Margulies\n",
      "44 Amy Shumer\n",
      "45 Alexander Wang (designer)\n",
      "46 Jill Soloway\n",
      "47 Chris Pratt\n",
      "48 Audra McDonald\n",
      "49 Tim McGraw\n",
      "50 Kevin Hart\n",
      "51 Chimamanda Ngozi Adichie\n",
      "52 Julianne Moore\n",
      "53 Christopher Nolan\n",
      "54 Marie Kondo\n",
      "55 John Oliver (comedian)\n",
      "56 Jorge Ramos (news anchor)\n",
      "57 Narendra Modi\n",
      "58 Angela Merkel\n",
      "59 Bob Corker\n",
      "60 Rula Ghani\n",
      "61 Muhammadu Buhari\n",
      "62 Alexis Tsipras\n",
      "63 Vladimir Putin\n",
      "64 Obiageli Ezekwesili\n",
      "65 Elizabeth Warren\n",
      "66 Haider al-Abadi\n",
      "67 Joko Widodo\n",
      "68 King Salman bin Abdulaziz Al Saud\n",
      "69 Xi Jinping\n",
      "70 Jeb bush\n",
      "71 Tom Frieden\n",
      "72 Samantha Power \n",
      "73 Raul Castro\n",
      "74 Kim Jong Un\n",
      "75 Abubakar Shekau\n",
      "76 Benjamin Netenyahu\n",
      "77 Hillary Clinton\n",
      "78 Martin Dempsey\n",
      "79 Beji Caid Essebsi\n",
      "80 Adam Silver\n",
      "81 Lu Wei (politician)\n",
      "82 Marine Le Pen\n",
      "83 Barack Obama\n",
      "84 Mitch McConnell\n",
      "85 Mohammad Javad Zarif\n",
      "86 Joanne Liu\n",
      "87 Ruth Bader Ginsburg\n",
      "88 Taylor Swift\n",
      "89 Diane von Furstenberg\n",
      "90 Gabriel Medina\n",
      "91 Haruki Murakami\n",
      "92 Bjork\n",
      "93 Jerry Brown\n",
      "94 Abby Wambach\n",
      "95 Ina Garten\n",
      "96 Thomas Piketty\n",
      "97 Malala Yousafzai\n",
      "98 Pope Francis \n",
      "Done\n"
     ]
    }
   ],
   "source": [
    "#del bio_list, bio_dict, category_list, category_dict\n",
    "bio_list, bio_dict, category_list, category_dict = bio_names(raw_names)"
   ]
  },
  {
   "cell_type": "markdown",
   "metadata": {},
   "source": [
    "We now show an example what the list and dictionay contents look like"
   ]
  },
  {
   "cell_type": "code",
   "execution_count": 7,
   "metadata": {
    "collapsed": false
   },
   "outputs": [
    {
     "data": {
      "text/plain": [
       "u'hillary diane rodham clinton hlri dan rdm klntn born october 26 1947 is an american politician and a candidate for the democratic presidential nomination in the 2016 election she served as the 67th united states secretary of state from 2009 to 2013 the junior united states senator representing new york from 2001 to 2009 first lady of the united states during the presidency of bill clinton from 1993 to 2001 and first lady of arkansas for twelve years hillary rodham grew up in the chicago area she attended wellesley college graduating in 1969 and earned a jd from yale law school in 1973 after serving as a congressional legal counsel she moved to arkansas marrying bill clinton in 1975 in 1977 she cofounded arkansas advocates for children and families she was appointed the first female chair of the legal services corporation in 1978 and the following year became the first woman partner at rose law firm as first lady of arkansas 197981 198392 she led a task force whose recommendations helped reform arkansas public schools and served on the boards of corporations including walmart as first lady of the united states clinton led the failed effort to enact the clinton health plan of 1993 in 1997 and 1999 she helped create programs for childrens health insurance adoption and foster care the only first lady to have been subpoenaed she faced a federal grand jury in 1996 regarding the whitewater controversy no charges were brought against her related to this or any other controversies in her life her marriage endured the lewinsky scandal of 1998 and overall her role as first lady drew a polarized response from the public clinton was elected in 2000 as the first female senator from new york the only first lady ever to have sought elective office following the september 11 attacks she voted to approve the war in afghanistan she also voted for the iraq resolution which she later regretted sought to hasten the withdrawal of us troops from iraq and opposed the iraq war troop surge of 2007 which she later commended she voted against the tax cuts of 2001 and 2003 and voted against john roberts and samuel alito for the united states supreme court filibustering the latter she was reelected to the senate in 2006 running for president in 2008 she won far more delegates than any previous female candidate but lost the democratic nomination to barack obama as secretary of state in the obama administration from 2009 to 2013 clinton responded to the arab spring during which she advocated the us military intervention in libya while accepting responsibility for security lapses related to the 2012 benghazi attack she said she had no direct role in consulate security prior to that attack leaving office after obamas first term she authored her fifth book and undertook speaking engagements before announcing her second run for the democratic nomination in the 2016 presidential election    early life and education     early life  hillary diane rodham was born on october 26 1947 at edgewater hospital in chicago illinois she was raised in a united methodist family first in chicago and then from the age of three in suburban park ridge illinois her father hugh ellsworth rodham 19111993 was of welsh and english descent he managed a successful small business in the textile industry her mother dorothy emma howell 19192011 was a homemaker of english scottish french canadian and welsh descent hillary has two younger brothers hugh and tony  as a child rodham was a teachers favorite at her public schools in park ridge she participated in sports such as swimming and baseball and earned numerous awards as a brownie and as a girl scout she attended maine east high school where she participated in student council the school newspaper and was selected for national honor society for her senior year she was redistricted to maine south high school where she was a national merit finalist and graduated in the top five percent of her class of 1965 her mother wanted her to have an independent professional career and her father otherwise a traditionalist felt that his daughters abilities and opportunities should not be limited by gender raised in a politically conservative household rodham helped canvass chicagos south side at age thirteen following the very close 1960 us presidential election where she found evidence of electoral fraud against republican candidate richard nixon she then volunteered to campaign for republican candidate barry goldwater in the us presidential election of 1964 rodhams early political development was shaped most by her high school history teacher like her father a fervent anticommunist who introduced her to goldwaters the conscience of a conservative and by her methodist youth minister like her mother concerned with issues of social justice with whom she saw and afterwards briefly met civil rights leader martin luther king jr at a 1962 speech in chicagos orchestra hall    wellesley college years  in 1965 rodham enrolled at wellesley college where she majored in political science during her freshman year she served as president of the wellesley young republicans with this rockefeller republicanoriented group she supported the elections to mayor of john lindsay new york city and to us senator of edward brooke massachusetts she later stepped down from this position as her views changed regarding the american civil rights movement and the vietnam war in a letter to her youth minister at this time she described herself as a mind conservative and a heart liberal in contrast to the 1960s current that advocated radical actions against the political system she sought to work for change within it in her junior year rodham became a supporter of the antiwar presidential nomination campaign of democrat eugene mccarthy in early 1968 she was elected president of the wellesley college government association and served through early 1969 following the assassination of martin luther king jr rodham organized a twoday student strike and worked with wellesleys black students to recruit more black students and faculty in her student government role she played a role in keeping wellesley from being embroiled in the student disruptions common to other colleges a number of her fellow students thought she might some day become the first female president of the united states to help her better understand her changing political views professor alan schechter assigned rodham to intern at the house republican conference and she attended the wellesley in washington summer program rodham was invited by moderate new york republican representative charles goodell to help governor nelson rockefellers lateentry campaign for the republican nomination rodham attended the 1968 republican national convention in miami however she was upset by the way richard nixons campaign portrayed rockefeller and by what she perceived as the conventions veiled racist messages and left the republican party for good rodham wrote her senior thesis a critique of the tactics of radical community organizer saul alinsky under professor schechter years later while she was first lady access to her thesis was restricted at the request of the white house and it became the subject of some speculation in 1969 she graduated with a bachelor of arts with departmental honors in political science following pressure from some fellow seniors she became the first student in wellesley college history to be chosen by graduating seniors to speak on their behalf following commencement speaker senator brooke her speech received a standing ovation lasting seven minutes she was featured in an article published in life magazine due to the response to a part of her speech that criticized senator brooke she also appeared on irv kupcinets nationally syndicated television talk show as well as in illinois and new england newspapers that summer she worked her way across alaska washing dishes in mount mckinley national park and sliming salmon in a fish processing cannery in valdez which fired her and shut down overnight when she complained about unhealthful conditions    yale law school and postgraduate studies  rodham then entered yale law school there she served on the editorial board of the yale review of law and social action during her second year she worked at the yale child study center learning about new research on early childhood brain development and working as a research assistant on the seminal work beyond the best interests of the child 1973 she also took on cases of child abuse at yalenew haven hospital and volunteered at new haven legal services to provide free legal advice for the poor in the summer of 1970 she was awarded a grant to work at marian wright edelmans washington research project where she was assigned to senator walter mondales subcommittee on migratory labor there she researched migrant workers problems in housing sanitation health and education edelman later became a significant mentor rodham was recruited by political advisor anne wexler to work on the 1970 campaign of connecticut us senate candidate joseph duffey with rodham later crediting wexler with providing her first job in politics in the late spring of 1971 she began dating bill clinton also a law student at yale that summer she interned at the oakland california law firm of treuhaft walker and burnstein the firm was well known for its support of constitutional rights civil liberties and radical causes two of its four partners were current or former communist party members rodham worked on child custody and other cases clinton canceled his original summer plans in order to live with her in california the couple continued living together in new haven when they returned to law school the following summer rodham and clinton campaigned in texas for unsuccessful 1972 democratic presidential candidate george mcgovern she received a juris doctor degree from yale in 1973 having stayed on an extra year to be with clinton he first proposed marriage to her following graduation but she declined uncertain if she wanted to tie her future to his rodham began a year of postgraduate study on children and medicine at the yale child study center her first scholarly article children under the law was published in the harvard educational review in late 1973 discussing the new childrens rights movement it stated that child citizens were powerless individuals and argued that children should not be considered equally incompetent from birth to attaining legal age but that instead courts should presume competence except when there is evidence otherwise on a casebycase basis the article became frequently cited in the field    marriage and family law career and first lady of arkansas     from the east coast to arkansas  during her postgraduate study rodham served as staff attorney for edelmans newly founded childrens defense fund in cambridge massachusetts and as a consultant to the carnegie council on children in 1974 she was a member of the impeachment inquiry staff in washington dc advising the house committee on the judiciary during the watergate scandal under the guidance of chief counsel john doar and senior member bernard nussbaum rodham helped research procedures of impeachment and the historical grounds and standards for impeachment the committees work culminated in the resignation of president richard nixon in august 1974 by then rodham was viewed as someone with a bright political future democratic political organizer and consultant betsey wright had moved from texas to washington the previous year to help guide her career and wright thought rodham had the potential to become a future senator or president meanwhile clinton had repeatedly asked rodham to marry him and she continued to demur after failing the district of columbia bar exam and passing the arkansas exam rodham came to a key decision as she later wrote i chose to follow my heart instead of my head she thus followed bill clinton to arkansas rather than staying in washington where career prospects were brighter he was then teaching law and running for a seat in the us house of representatives in his home state in august 1974 rodham moved to fayetteville arkansas and became one of only two female faculty members in the school of law at the university of arkansas fayetteville she gave classes in criminal law where she was considered a rigorous teacher and tough grader and was the first director of the schools legal aid clinic she still harbored doubts about marriage concerned that her separate identity would be lost and that her accomplishments would be viewed in the light of someone elses    early arkansas years  hillary rodham and bill clinton bought a house in fayetteville in the summer of 1975 and hillary finally agreed to marry bill their wedding took place on october 11 1975 in a methodist ceremony in their living room a story about the marriage in the arkansas gazette indicated that she was retaining the name hillary rodham the motivation was to keep the couples professional lives separate and avoid apparent conflicts of interest and because as she told a friend at the time it showed that i was still me the decision did upset both their mothers bill clinton had lost the congressional race in 1974 but in november 1976 was elected arkansas attorney general and so the couple moved to the state capital of little rock there in february 1977 rodham joined the venerable rose law firm a bastion of arkansan political and economic influence she specialized in patent infringement and intellectual property law while also working pro bono in child advocacy she rarely performed litigation work in court rodham maintained her interest in childrens law and family policy publishing the scholarly articles childrens policies abandonment and neglect in 1977 and childrens rights a legal perspective in 1979 the latter continued her argument that childrens legal competence depended upon their age and other circumstances and that in serious medical rights cases judicial intervention was sometimes warranted an american bar association chair later said her articles were important not because they were radically new but because they helped formulate something that had been inchoate historian garry wills would later describe her as one of the more important scholaractivists of the last two decades while conservatives said her theories would usurp traditional parental authority would allow children to file frivolous lawsuits against their parents and exemplified legal crit theory run amok  in 1977 rodham cofounded arkansas advocates for children and families a statelevel alliance with the childrens defense fund later that year president jimmy carter for whom rodham had been the 1976 campaign director of field operations in indiana appointed her to the board of directors of the legal services corporation and she served in that capacity from 1978 until the end of 1981 from mid1978 to mid1980 she served as the chair of that board the first woman to do so during her time as chair funding for the corporation was expanded from 90 million to 300 million subsequently she successfully fought president ronald reagans attempts to reduce the funding and change the nature of the organization following her husbands november 1978 election as governor of arkansas rodham became first lady of arkansas in january 1979 her title for twelve years 19791981 19831992 clinton appointed her chair of the rural health advisory committee the same year where she secured federal funds to expand medical facilities in arkansass poorest areas without affecting doctors fees in 1979 rodham became the first woman to be made a full partner of rose law firm from 1978 until they entered the white house she had a higher salary than that of her husband during 1978 and 1979 while looking to supplement their income rodham engaged in the trading of cattle futures contracts an initial 1000 investment generated nearly 100000 when she stopped trading after ten months the couple also began their illfated investment in the whitewater development corporation real estate venture with jim and susan mcdougal at this time both of these became subjects of controversy in the 1990s on february 27 1980 rodham gave birth to their daughter chelsea in november 1980 bill clinton was defeated in his bid for reelection    later arkansas years   bill clinton returned to the governors office two years later after winning the election of 1982 during her husbands campaign rodham began to use the name hillary clinton or sometimes mrs bill clinton to assuage the concerns of arkansas voters she also took a leave of absence from rose law to campaign for him fulltime as first lady of arkansas again she made a note of using hillary rodham clinton as her name she was named chair of the arkansas educational standards committee in 1983 where she sought to reform the states courtsanctioned public education system in one of the clinton governorships most important initiatives she fought a prolonged but ultimately successful battle against the arkansas education association to establish mandatory teacher testing and state standards for curriculum and classroom size it became her introduction into the politics of a highly visible public policy effort in 1985 she introduced arkansass home instruction program for preschool youth a program that helps parents work with their children in preschool preparedness and literacy she was named arkansas woman of the year in 1983 and arkansas mother of the year in 1984 clinton continued to practice law with the rose law firm while she was first lady of arkansas she earned less than the other partners as she billed fewer hours but still made more than 200000 in her final year there the firm considered her a rainmaker because she brought in clients partly thanks to the prestige she lent it and to her corporate board connections she was also very influential in the appointment of state judges bill clintons republican opponent in his 1986 gubernatorial reelection campaign accused the clintons of conflict of interest because rose law did state business the clintons countered the charge by saying that state fees were walled off by the firm before her profits were calculated from 1982 to 1988 clinton was on the board of directors sometimes as chair of the new world foundation which funded a variety of new left interest groups from 1987 to 1991 she was the first chair of the american bar associations commission on women in the profession created to address gender bias in the legal profession and induce the association to adopt measures to combat it she was twice named by the national law journal as one of the 100 most influential lawyers in america in 1988 and in 1991 when bill clinton thought about not running again for governor in 1990 hillary considered running but private polls were unfavorable and in the end he ran and was reelected for the final time clinton served on the boards of the arkansas childrens hospital legal services 19881992 and the childrens defense fund as chair 19861992 in addition to her positions with nonprofit organizations she also held positions on the corporate board of directors of tcby 19851992 walmart stores 19861992 and lafarge 19901992 tcby and walmart were arkansasbased companies that were also clients of rose law clinton was the first female member on walmarts board added following pressure on chairman sam walton to name a woman to it once there she pushed successfully for walmart to adopt more environmentally friendly practices was largely unsuccessful in a campaign for more women to be added to the companys management and was silent about the companys famously antilabor union practices    bill clinton presidential campaign of 1992  hillary clinton received sustained national attention for the first time when her husband became a candidate for the democratic presidential nomination of 1992 before the new hampshire primary tabloid publications printed assertions that bill clinton had engaged in an extramarital affair with arkansas lounge singer gennifer flowers in response the clintons appeared together on 60 minutes where bill clinton denied the affair but acknowledged causing pain in my marriage this joint appearance was credited with rescuing his campaign during it hillary clinton made culturally disparaging remarks about tammy wynettes outlook on marriage as described in her classic song stand by your man and later in the campaign about how she could have chosen to be like women staying home and baking cookies and having teas but wanted to pursue her career instead the remarks were widely criticized particularly by those who were or defended stayathome mothers and in retrospect were illconsidered by her own admission bill clinton said that in electing him the nation would get two for the price of one referring to the prominent role his wife would assume beginning with daniel wattenbergs august 1992 the american spectator article the lady macbeth of little rock hillary clintons own past ideological and ethical record came under attack from conservatives at least twenty other articles in major publications also drew comparisons between her and lady macbeth    first lady of the united states     role as first lady  when bill clinton took office as president in january 1993 hillary rodham clinton became the first lady of the united states and her press secretary reiterated that she would be using that form of her name she was the initial first lady to hold a postgraduate degree and to have her own professional career up to the time of entering the white house she was also the first to have an office in the west wing of the white house in addition to the usual first lady offices in the east wing she was part of the innermost circle vetting appointments to the new administration and her choices filled at least eleven toplevel positions and dozens more lowerlevel ones after eleanor roosevelt clinton is regarded as the most openly empowered presidential wife in american history  some critics called it inappropriate for the first lady to play a central role in matters of public policy supporters pointed out that clintons role in policy was no different from that of other white house advisors and that voters had been well aware that she would play an active role in her husbands presidency bill clintons campaign promise of two for the price of one led opponents to refer derisively to the clintons as copresidents or sometimes the arkansas label billary the pressures of conflicting ideas about the role of a first lady were enough to send clinton into imaginary discussions with the alsopoliticallyactive eleanor roosevelt from the time she came to washington she also found refuge in a prayer group of the fellowship that featured many wives of conservative washington figures triggered in part by the death of her father in april 1993 she publicly sought to find a synthesis of methodist teachings liberal religious political philosophy and tikkun editor michael lerners politics of meaning to overcome what she saw as americas sleeping sickness of the soul that would lead to a willingness to remold society by redefining what it means to be a human being in the twentieth century moving into a new millennium other segments of the public focused on her appearance which had evolved over time from inattention to fashion during her days in arkansas to a popular site in the early days of the world wide web devoted to showing her many different and frequently analyzed hairstyles as first lady to an appearance on the cover of vogue magazine in 1998    health care and other policy initiatives   in january 1993 president clinton named first lady clinton to chair a task force on national health care reform hoping to replicate the success she had in leading the effort for arkansas education reform unconvinced regarding the merits of the north american free trade agreement nafta she privately urged that passage of health care reform be given higher priority the recommendation of the task force became known as the clinton health care plan a comprehensive proposal that would require employers to provide health coverage to their employees through individual health maintenance organizations its opponents quickly derided the plan as hillarycare and it faced opposition from even some democrats in congress some protesters against the proposed plan became vitriolic and during a july 1994 bus tour to rally support for the plan clinton wore a bulletproof vest at times  failing to gather enough support for a floor vote in either the house or the senate although democrats controlled both chambers the proposal was abandoned in september 1994 clinton later acknowledged in her memoir that her political inexperience partly contributed to the defeat but cited many other factors the first ladys approval ratings which had generally been in the high50s percent range during her first year fell to 44 percent in april 1994 and 35 percent by september 1994 republicans made the clinton health care plan a major campaign issue of the 1994 midterm elections which saw a net republican gain of fiftythree seats in the house election and seven in the senate election winning control of both many analysts and pollsters found the plan to be a major factor in the democrats defeat especially among independent voters the white house subsequently sought to downplay hillary clintons role in shaping policy opponents of universal health care would continue to use hillarycare as a pejorative label for similar plans by others  along with senators ted kennedy and orrin hatch she was a force behind the passage of the state childrens health insurance program in 1997 a federal effort that provided state support for children whose parents could not provide them with health coverage and conducted outreach efforts on behalf of enrolling children in the program once it became law she promoted nationwide immunization against childhood illnesses and encouraged older women to seek a mammogram to detect breast cancer with coverage provided by medicare she successfully sought to increase research funding for prostate cancer and childhood asthma at the national institutes of health the first lady worked to investigate reports of an illness that affected veterans of the gulf war which became known as the gulf war syndrome enactment of welfare reform was a major goal of her husbands but when the first two bills on it came from the republicancontrolled congress lacked protections for people going off welfare she urged him to veto them which he did a third version came up during his 1996 general election campaign that restored some of the protections but cut the scope of benefits in other areas critics including her past mentor edelman urged her to get the president to veto it again but she decided to support the bill which became the welfare reform act of 1996 as the best political compromise available this caused a rift with edelman that clinton later called sad and painful together with attorney general janet reno clinton helped create the office on violence against women at the department of justice in 1997 she initiated and shepherded the adoption and safe families act which she regarded as her greatest accomplishment as first lady in 1999 she was instrumental in the passage of the foster care independence act which doubled federal monies for teenagers aging out of foster care as first lady clinton hosted numerous white house conferences including ones on child care 1997 on early childhood development and learning 1997 and on children and adolescents 2000 she also hosted the firstever white house conference on teenagers 2000 and the firstever white house conference on philanthropy 1999 clinton traveled to 79 countries during this time breaking the mark for mosttraveled first lady held by pat nixon she did not hold a security clearance or attend national security council meetings but played a role in us diplomacy attaining its objectives a march 1995 fivenation trip to south asia on behest of the us state department and without her husband sought to improve relations with india and pakistan clinton was troubled by the plight of women she encountered but found a warm response from the people of the countries she visited and gained a better relationship with the american press corps the trip was a transformative experience for her and presaged her eventual career in diplomacy in a september 1995 speech before the fourth world conference on women in beijing clinton argued very forcefully against practices that abused women around the world and in the peoples republic of china itself declaring that it is no longer acceptable to discuss womens rights as separate from human rights delegates from over 180 countries heard her say if there is one message that echoes forth from this conference let it be that human rights are womens rights and womens rights are human rights once and for all in doing so she resisted both internal administration and chinese pressure to soften her remarks the speech became a key moment in the empowerment of women and years later females around the world would recite clintons key phrases she was one of the most prominent international figures during the late 1990s to speak out against the treatment of afghan women by the taliban she helped create vital voices an international initiative sponsored by the us to promote the participation of women in the political processes of their countries it and clintons own visits encouraged women to make themselves heard in the northern ireland peace process    whitewater and other investigations   first lady clinton was a subject of several investigations by the united states office of the independent counsel committees of the us congress and the press the whitewater controversy was the focus of media attention from the publication of a new york times report during the 1992 presidential campaign and throughout her time as first lady the clintons had lost their late1970s investment in the whitewater development corporation at the same time their partners in that investment jim and susan mcdougal operated madison guaranty a savings and loan institution that retained the legal services of rose law firm and may have been improperly subsidizing whitewater losses madison guaranty later failed and clintons work at rose was scrutinized for a possible conflict of interest in representing the bank before state regulators that her husband had appointed she said she had done minimal work for the bank independent counsels robert fiske and kenneth starr subpoenaed clintons legal billing records she said she did not know where they were the records were found in the first ladys white house book room after a twoyear search and delivered to investigators in early 1996 the delayed appearance of the records sparked intense interest and another investigation concerning how they surfaced and where they had been clintons staff attributed the problem to continual changes in white house storage areas since the move from the arkansas governors mansion on january 26 1996 clinton became the first first lady to be subpoenaed to testify before a federal grand jury after several independent counsels had investigated a final report was issued in 2000 that stated there was insufficient evidence that either clinton had engaged in criminal wrongdoing  scrutiny of the may 1993 firings of the white house travel office employees an affair that became known as travelgate began with charges that the white house had used audited financial irregularities in the travel office operation as an excuse to replace the staff with friends from arkansas the 1996 discovery of a twoyearold white house memo caused the investigation to focus on whether hillary clinton had orchestrated the firings and whether the statements she made to investigators about her role in the firings were true the 2000 final independent counsel report concluded she was involved in the firings and that she had made factually false statements but that there was insufficient evidence that she knew the statements were false or knew that her actions would lead to firings to prosecute her following deputy white house counsel vince fosters july 1993 suicide allegations were made that hillary clinton had ordered the removal of potentially damaging files related to whitewater or other matters from fosters office on the night of his death independent counsel kenneth starr investigated this and by 1999 starr was reported to be holding the investigation open despite his staff having told him there was no case to be made when starrs successor robert ray issued his final whitewater reports in 2000 no claims were made against hillary clinton regarding this an outgrowth of the travelgate investigation was the june 1996 discovery of improper white house access to hundreds of fbi background reports on former republican white house employees an affair that some called filegate accusations were made that hillary clinton had requested these files and that she had recommended hiring an unqualified individual to head the white house security office the 2000 final independent counsel report found no substantial or credible evidence that hillary clinton had any role or showed any misconduct in the matter in march 1994 newspaper reports revealed her spectacular profits from trading in 197879 thus leading to the cattle futures controversy allegations were made in the press of conflict of interest and disguised bribery and several individuals analyzed her trading records but no formal investigation was made and she was never charged with any wrongdoing there was a controversy that arose in early 2001 over gifts made to the white house rather than to the clintons personally that were removed and shipped to the clintons private residence during the last year of bill clintons time in office following public pressure the couple returned 134000 worth of such gifts hillary clinton faced additional criticism for having possibly solicited personal gifts shortly before being sworn in as a senator at which time she would have been barred from accepting them    response to lewinsky scandal   in 1998 the clintons relationship became the subject of much speculation when investigations revealed that the president had engaged in an extramarital affair with white house intern monica lewinsky events surrounding the lewinsky scandal eventually led to the impeachment of bill clinton by the house of representatives when the allegations against her husband were first made public hillary clinton stated that they were the result of a vast rightwing conspiracy characterizing the lewinsky charges as the latest in a long organized collaborative series of charges by bill clintons political enemies rather than any wrongdoing by her husband she later said that she had been misled by her husbands initial claims that no affair had taken place after the evidence of president clintons encounters with lewinsky became incontrovertible she issued a public statement reaffirming her commitment to their marriage but privately was reported to be furious at him and was unsure if she wanted to stay in the marriage the white house residence staff noticed a pronounced level of tension between the couple during this period public reaction varied some women admired her strength and poise in private matters made public some sympathized with her as a victim of her husbands insensitive behavior others criticized her as being an enabler to her husbands indiscretions while still others accused her of cynically staying in a failed marriage as a way of keeping or even fostering her own political influence her public approval ratings in the wake of the revelations shot upward to around 70 percent the highest they had ever been in her 2003 memoir she would attribute her decision to stay married to a love that has persisted for decades and add no one understands me better and no one can make me laugh the way bill does even after all these years he is still the most interesting energizing and fully alive person i have ever met matters surrounding the lewinsky scandal left bill clinton with substantial legal bills in 2014 hillary clinton would state that she and bill had left the white house not only dead broke but in debt the statement may have been literally accurate but ignored the potentially enormous earnings potential of presidents upon leaving office as well as the couples ability to secure loans from banks    traditional duties  clinton initiated and was founding chair of the save americas treasures program a national effort that matched federal funds to private donations to preserve and restore historic items and sites including the flag that inspired the starspangled banner and the first ladies historic site in canton ohio she was head of the white house millennium council and hosted millennium evenings a series of lectures that discussed futures studies one of which became the first live simultaneous webcast from the white house clinton also created the first white house sculpture garden located in the jacqueline kennedy garden which displayed large contemporary american works of art loaned from museums in the white house clinton placed donated handicrafts of contemporary american artisans such as pottery and glassware on rotating display in the state rooms she oversaw the restoration of the blue room to be historically authentic to the period of james monroe and the map room to how it looked during world war ii working with arkansas interior decorator kaki hockersmith over an eightyear period she oversaw extensive privately funded redecoration efforts around the building often trying to make it look brighter these included changing the look of the treaty room a presidential study to along 19th century lines overall the redecoration brought mixed notices with victorian furnishings for the lincoln sitting room being criticized the most clinton hosted many largescale events at the white house such as a saint patricks day reception a state dinner for visiting chinese dignitaries a contemporary music concert that raised funds for music education in public schools a new years eve celebration at the turn of the 21st century and a state dinner honoring the bicentennial of the white house in november 2000    2000 us senate election   when new yorks longserving us senator daniel patrick moynihan announced his retirement in november 1998 several prominent democratic figures including representative charles b rangel of new york urged clinton to run for moynihans open seat in the senate election of 2000 once she decided to run the clintons purchased a home in chappaqua new york north of new york city in september 1999 she became the first first lady of the united states to be a candidate for elected office initially clinton expected to face rudy giuliani the mayor of new york city as her republican opponent in the election giuliani withdrew from the race in may 2000 after he was diagnosed with prostate cancer and matters related to his failing marriage became public and clinton instead faced rick lazio a republican member of the us house of representatives representing new yorks 2nd congressional district throughout the campaign opponents accused clinton of carpetbagging as she had never resided in new york nor participated in the states politics before the 2000 senate race clinton began her campaign by visiting every county in the state in a listening tour of smallgroup settings she devoted considerable time in traditionally republican upstate new york regions clinton vowed to improve the economic situation in those areas promising to deliver 200000 jobs to the state over her term her plan included tax credits to reward job creation and encourage business investment especially in the hightech sector she called for personal tax cuts for college tuition and longterm care the contest drew national attention lazio blundered during a september debate by seeming to invade clintons personal space trying to get her to sign a fundraising agreement the campaigns of clinton and lazio along with giulianis initial effort spent a record combined 90 million clinton won the election on november 7 2000 with 55 percent of the vote to lazios 43 percent she was sworn in as us senator on january 3 2001 making her the first and so far only woman to have held an elected office either while for a brief period or after serving as first lady    united states senate     first term   upon entering the senate clinton maintained a low public profile and built relationships with senators from both parties she forged alliances with religiously inclined senators by becoming a regular participant in the senate prayer breakfast she served on five senate committees committee on budget 20012002 committee on armed services 20032009 committee on environment and public works 20012009 committee on health education labor and pensions 20012009 and special committee on aging she was also a member of the commission on security and cooperation in europe 20012009 following the september 11 attacks clinton sought to obtain funding for the recovery efforts in new york city and security improvements in her state working with new yorks senior senator charles schumer she was instrumental in securing 21 billion in funding for the world trade center sites redevelopment she subsequently took a leading role in investigating the health issues faced by 911 first responders clinton voted for the usa patriot act in october 2001 in 2005 when the act was up for renewal she expressed concerns with the usa patriot act reauthorization conference report regarding civil liberties before voting in favor of the usa patriot improvement and reauthorization act of 2005 in march 2006 that gained large majority support clinton strongly supported the 2001 us military action in afghanistan saying it was a chance to combat terrorism while improving the lives of afghan women who suffered under the taliban government clinton voted in favor of the october 2002 iraq war resolution which authorized president george w bush to use military force against iraq after the iraq war began clinton made trips to iraq and afghanistan to visit american troops stationed there on a visit to iraq in february 2005 clinton noted that the insurgency had failed to disrupt the democratic elections held earlier and that parts of the country were functioning well observing that war deployments were draining regular and reserve forces she cointroduced legislation to increase the size of the regular us army by 80000 soldiers to ease the strain in late 2005 clinton said that while immediate withdrawal from iraq would be a mistake bushs pledge to stay until the job is done was also misguided as it gave iraqis an openended invitation not to take care of themselves her stance caused frustration among those in the democratic party who favored quick withdrawal clinton supported retaining and improving health benefits for reservists and lobbied against the closure of several military bases especially those in new york she used her position on the armed services committee to forge close relationships with a number of highranking military officers by 2014 and 2015 clinton had fully reversed herself on the iraq war resolution saying that she got it wrong and the vote in support had been a mistake senator clinton voted against president bushs two major tax cut packages the economic growth and tax relief reconciliation act of 2001 and the jobs and growth tax relief reconciliation act of 2003 clinton voted against the 2005 confirmation of john g roberts as chief justice of the united states and the 2006 confirmation of samuel alito to the us supreme court filibustering the latter in 2005 clinton called for the federal trade commission to investigate how hidden sex scenes showed up in the controversial video game grand theft auto san andreas along with senators joe lieberman and evan bayh she introduced the family entertainment protection act intended to protect children from inappropriate content found in video games in 2004 and 2006 clinton voted against the federal marriage amendment that sought to prohibit samesex marriage clinton opposed samesex marriage until 2013 looking to establish a progressive infrastructure to rival that of american conservatism clinton played a formative role in conversations that led to the 2003 founding of former clinton administration chief of staff john podestas center for american progress shared aides with citizens for responsibility and ethics in washington founded in 2003 and advised the clintons former antagonist david brocks media matters for america created in 2004 following the 2004 senate elections she successfully pushed new democratic senate leader harry reid to create a senate war room to handle daily political messaging    2006 reelection campaign   in november 2004 clinton announced that she would seek a second senate term clinton easily won the democratic nomination over opposition from antiwar activist jonathan tasini the early frontrunner for the republican nomination westchester county district attorney jeanine pirro withdrew from the contest after several months of poor campaign performance clintons eventual opponent in the general election was republican candidate john spencer a former mayor of yonkers clinton won the election on november 7 2006 with 67 percent of the vote to spencers 31 percent carrying all but four of new yorks sixtytwo counties her campaign spent 36 million for her reelection more than any other candidate for senate in the 2006 elections some democrats criticized her for spending too much in a onesided contest while some supporters were concerned she did not leave more funds for a potential presidential bid in 2008 in the following months she transferred 10 million of her senate funds toward her presidential campaign    second term   clinton opposed the iraq war troop surge of 2007 for both military and domestic political reasons by the following year she was privately acknowledging that the surge had been successful in march of that year she voted in favor of a warspending bill that required president bush to begin withdrawing troops from iraq by a deadline it passed almost completely along party lines but was subsequently vetoed by bush in may a compromise war funding bill that removed withdrawal deadlines but tied funding to progress benchmarks for the iraqi government passed the senate by a vote of 8014 and would be signed by bush clinton was one of those who voted against it clinton responded to general david petraeuss september 2007 report to congress on the situation in iraq by saying i think that the reports that you provide to us really require a willing suspension of disbelief in march 2007 in response to the dismissal of us attorneys controversy clinton called on attorney general alberto gonzales to resign regarding the highprofile hotly debated comprehensive immigration reform bill known as the secure borders economic opportunity and immigration reform act of 2007 clinton cast several votes in support of the bill which eventually failed to gain cloture as the financial crisis of 200708 reached a peak with the liquidity crisis of september 2008 clinton supported the proposed bailout of the us financial system voting in favor of the 700 billion law that created the troubled asset relief program saying that it represented the interests of the american people it passed the senate 7425    2008 presidential campaign   clinton had been preparing for a potential candidacy for us president since at least early 2003 on january 20 2007 she announced via her website the formation of a presidential exploratory committee for the united states presidential election of 2008 stating im in and im in to win no woman had ever been nominated by a major party for the presidency when bill clinton became president in 1993 a blind trust was established in april 2007 the clintons liquidated the blind trust to avoid the possibility of ethical conflicts or political embarrassments as hillary clinton undertook her presidential race later disclosure statements revealed that the couples worth was now upwards of 50 million and that they had earned over 100 million since 2000 with most of it coming from bill clintons books speaking engagements and other activities throughout the first half of 2007 clinton led candidates competing for the democratic presidential nomination in opinion polls for the election senator barack obama of illinois and former senator john edwards of north carolina were her strongest competitors the biggest threat to her campaign was her past support of the iraq war which obama had opposed from the beginning clinton and obama both set records for early fundraising swapping the money lead each quarter  by september 2007 polling in the first six states holding democratic contests showed that clinton was leading in all of them with the races being closest in iowa and south carolina by the following month national polls showed clinton far ahead of democratic competitors at the end of october clinton suffered a rare poor debate performance against obama edwards and her other opponents obamas message of change began to resonate with the democratic electorate better than clintons message of experience the race tightened considerably especially in the early states of iowa new hampshire and south carolina with clinton losing her lead in some polls by december in the first vote of 2008 she placed third in the january 3 iowa democratic caucus behind obama and edwards obama gained ground in national polling in the next few days with all polls predicting a victory for him in the new hampshire primary clinton gained a surprise win there on january 8 defeating obama narrowly it was the first time a woman had won a major american partys presidential primary for the purposes of delegate selection explanations for clintons new hampshire comeback varied but often centered on her being seen more sympathetically especially by women after her eyes welled with tears and her voice broke while responding to a voters question the day before the election the nature of the contest fractured in the next few days several remarks by bill clinton and other surrogates and a remark by hillary clinton concerning martin luther king jr and lyndon b johnson were perceived by many as accidentally or intentionally limiting obama as a racially oriented candidate or otherwise denying the postracial significance and accomplishments of his campaign despite attempts by both hillary clinton and obama to downplay the issue democratic voting became more polarized as a result with clinton losing much of her support among african americans she lost by a twotoone margin to obama in the january 26 south carolina primary setting up with edwards soon dropping out an intense twoperson contest for the twentytwo february 5 super tuesday states bill clinton had made more statements attracting criticism for their perceived racial implications late in the south carolina campaign and his role was seen as damaging enough to her that a wave of supporters within and outside of the campaign said the former president needs to stop the south carolina campaign had done lasting damage to clinton eroding her support among the democratic establishment and leading to the prized endorsement of obama by ted kennedy  on super tuesday clinton won the largest states such as california new york new jersey and massachusetts while obama won more states they almost evenly split the total popular vote but obama was gaining more pledged delegates for his share of the popular vote due to better exploitation of the democratic proportional allocation rules the clinton campaign had counted on winning the nomination by super tuesday and was unprepared financially and logistically for a prolonged effort lagging in internet fundraising clinton began loaning money to her campaign there was continuous turmoil within the campaign staff and she made several toplevel personnel changes obama won the next eleven february contests across the country often by large margins and took a significant pledged delegate lead over clinton on march 4 clinton broke the string of losses by winning in ohio among other places where her criticism of nafta a major legacy of her husbands presidency helped in a state where the trade agreement was unpopular throughout the campaign obama dominated caucuses for which the clinton campaign largely ignored preparation obama did well in primaries where african americans or younger collegeeducated or more affluent voters were heavily represented clinton did well in primaries where hispanics or older noncollegeeducated or workingclass white voters predominated behind in delegates clintons best hope of winning the nomination came in persuading uncommitted partyappointed superdelegates  clintons admission in late march that her repeated campaign statements about having been under hostile fire from snipers during a march 1996 visit to us troops at tuzla air base in bosnia and herzegovina were not true attracted considerable media attention on april 22 she won the pennsylvania primary and kept her campaign alive on may 6 a narrowerthanexpected win in the indiana primary coupled with a large loss in the north carolina primary ended any realistic chance she had of winning the nomination she vowed to stay on through the remaining primaries but stopped attacks against obama as one advisor stated she could accept losing she could not accept quitting she won some of the remaining contests and indeed over the last three months of the campaign won more delegates states and votes than obama but she failed to overcome obamas lead following the final primaries on june 3 2008 obama had gained enough delegates to become the presumptive nominee in a speech before her supporters on june 7 clinton ended her campaign and endorsed obama by campaigns end clinton had won 1640 pledged delegates to obamas 1763 at the time of the clinching clinton had 286 superdelegates to obamas 395 with those numbers widening to 256 versus 438 once obama was acknowledged the winner clinton and obama each received over 17 million votes during the nomination process with both breaking the previous record clinton was the first woman to run in the primary or caucus of every state and she eclipsed by a very wide margin congresswoman shirley chisholms 1972 marks for most votes garnered and delegates won by a woman clinton gave a passionate speech supporting obama at the 2008 democratic national convention and campaigned frequently for him in fall 2008 which concluded with his victory over mccain in the general election on november 4 clintons campaign ended up severely in debt she owed millions of dollars to outside vendors and wrote off the 13 million that she lent it herself the debt was eventually paid off by the beginning of 2013    us secretary of state     nomination and confirmation   in midnovember 2008 presidentelect obama and clinton discussed the possibility of her serving as us secretary of state in his administration she was initially quite reluctant but on november 20 she told obama she would accept the position on december 1 presidentelect obama formally announced that clinton would be his nominee for secretary of state clinton said she did not want to leave the senate but that the new position represented a difficult and exciting adventure as part of the nomination and in order to relieve concerns of conflict of interest bill clinton agreed to accept several conditions and restrictions regarding his ongoing activities and fundraising efforts for the william j clinton foundation and clinton global initiative the appointment required a saxbe fix passed and signed into law in december 2008 confirmation hearings before the senate foreign relations committee began on january 13 2009 a week before the obama inauguration two days later the committee voted 161 to approve clinton by this time her public approval rating had reached 65 percent the highest point since the lewinsky scandal on january 21 2009 clinton was confirmed in the full senate by a vote of 942 clinton took the oath of office of secretary of state and resigned from the senate that same day she became the first former first lady to serve in the united states cabinet    first half of tenure   clinton spent her initial days as secretary of state telephoning dozens of world leaders and indicating that us foreign policy would change direction we have a lot of damage to repair she advocated an expanded role in global economic issues for the state department and cited the need for an increased us diplomatic presence especially in iraq where the defense department had conducted diplomatic missions clinton announced the most ambitious of her departmental reforms the quadrennial diplomacy and development review which establishes specific objectives for the state departments diplomatic missions abroad it was modeled after a similar process in the defense department that she was familiar with from her time on the senate armed services committee the first such review was issued in late 2010 and called for the us leading through civilian power as a costeffective way of responding to international challenges and defusing crises it also sought to institutionalize goals of empowering women throughout the world a cause clinton advocated throughout her tenure was the adoption of cookstoves in the developing world to foster cleaner and more environmentally sound food preparation and reduce smoke dangers to women  in an internal debate regarding the war in afghanistan during 2009 clinton sided with the militarys recommendations for a maximal afghanistan surge recommending 40000 troops and no public deadline for withdrawal she prevailed over vice president joe bidens opposition but eventually supported obamas compromise plan to send an additional 30000 troops and tie the surge to a timetable for eventual withdrawal in march 2009 clinton presented russian foreign minister sergey lavrov with a reset button symbolizing us attempts to rebuild ties with that country under its new president dmitry medvedev the photo op was remembered for a mistranslation into russian the policy which became known as the russian reset led to improved cooperation in several areas during medvedevs time in office but relations would worsen considerably following vladimir putins return to the position in 2012 in october 2009 on a trip to switzerland clintons intervention overcame lastminute snags and saved the signing of an historic turkisharmenian accord that established diplomatic relations and opened the border between the two longhostile nations in pakistan she engaged in several unusually blunt discussions with students talk show hosts and tribal elders in an attempt to repair the pakistani image of the us beginning in 2010 she helped organize a diplomatic isolation and international sanctions regime against iran in an effort to force curtailment of that countrys nuclear program this would eventually lead to the multinational joint comprehensive plan of action being agreed to in 2015 clinton and obama forged a good working relationship without power struggles she was a team player within the administration and a defender of it to the outside and was careful that neither she nor her husband would upstage the president clinton formed an alliance with secretary of defense gates as they shared similar strategic outlooks obama and clinton both approached foreign policy as a largely nonideological pragmatic exercise she met with him weekly but did not have the close daily relationship that some of her predecessors had had with their presidents moreover certain key areas of policymaking were kept inside the white house or pentagon nevertheless the president had trust in her actions  in a prepared speech in january 2010 clinton drew analogies between the iron curtain and the free and unfree internet chinese officials reacted negatively towards it and the speech garnered attention as the first time a senior american official had clearly defined the internet as a key element of american foreign policy in july 2010 secretary clinton visited korea vietnam pakistan and afghanistan all the while preparing for the july 31 wedding of daughter chelsea amid much media attention in late november 2010 clinton led the us damage control effort after wikileaks released confidential state department cables containing blunt statements and assessments by us and foreign diplomats    second half of tenure  the 2011 egyptian protests posed the most challenging foreign policy crisis for the administration yet clintons public response quickly evolved from an early assessment that the government of hosni mubarak was stable to a stance that there needed to be an orderly transition to a democratic participatory government to a condemnation of violence against the protesters obama came to rely upon clintons advice organization and personal connections in the behindthescenes response to developments as arab spring protests spread throughout the region clinton was at the forefront of a us response that she recognized was sometimes contradictory backing some regimes while supporting protesters against others  as the libyan civil war took place clintons shift in favor of military intervention aligned her with ambassador to the un susan rice and national security council figure samantha power and was a key turning point in overcoming internal administration opposition from defense secretary gates security advisor thomas donilon and counterterrorism advisor john brennan in gaining the backing for and arab and un approval of the 2011 military intervention in libya secretary clinton testified to congress that the administration did not need congressional authorization for its military intervention in libya despite objections from some members of both parties that the administration was violating the war powers resolution and the state departments legal advisor argued the same when the resolutions 60day limit for unauthorized wars was passed a view that prevailed in a legal debate within the obama administration clinton later used us allies and what she called convening power to promote unity among the libyan rebels as they eventually overthrew the gaddafi regime the aftermath of the libyan civil war saw the country becoming a failed state and the wisdom of the intervention and interpretation of what happened afterward would become the subject of considerable debate during april 2011 internal deliberations of the presidents innermost circle of advisors over whether to order us special forces to conduct a raid into pakistan against osama bin laden clinton was among those who argued in favor saying the importance of getting bin laden outweighed the risks to the us relationship with pakistan following completion of the mission on may 2 which resulted in bin ladens death clinton played a key role in the administrations decision not to release photographs of the dead alqaeda leader during internal discussions regarding iraq in 2011 clinton argued for keeping a residual force of up to 1000020000 us troops there all ended up being withdrawn after negotiations for a revised usiraq status of forces agreement failed  in a speech before the united nations human rights council in december 2011 clinton said that gay rights are human rights and that the us would advocate for gay rights and legal protections of gays abroad the same period saw her overcome internal administration opposition with a direct appeal to obama and stage the first visit to burma by a us secretary of state since 1955 as she met with burmese leaders as well as opposition leader aung san suu kyi and sought to support the 2011 burmese democratic reforms she also said that the 21st century would be americas pacific century a declaration that was part of the obama administrations pivot to asia during the syrian civil war clinton and the obama administration initially sought to persuade syrian president bashir alassad to engage popular demonstrations with reform then as government violence rose in august 2011 called for him to relinquish power the administration joined a number of allied countries in delivering nonlethal assistance to rebels opposed to the assad government as well as to humanitarian groups working in syria during mid2012 clinton formed a plan with cia director david petraeus to further strengthen the opposition by arming and training vetted groups of syrian rebels but the proposal was rejected by the white house who were reluctant to become entangled in the conflict and who feared that extremists hidden among the rebels might turn the weapons against other targets in december 2012 clinton was hospitalized for a few days for treatment of a blood clot in her right transverse venous sinus her doctors had discovered the clot during a followup examination for a concussion she had sustained when she had fainted and fallen nearly three weeks earlier after developing severe dehydration from a viral intestinal ailment acquired during a trip to europe the clot which caused no immediate neurological injury was treated with anticoagulant medication and her doctors subsequently said she made a full recovery    overall themes  throughout her time in office and in her final speech concluding it clinton viewed smart power as the strategy for asserting us leadership and values  in a world of varied threats weakened central governments and increasingly important nongovernmental entities  by combining military hard power with diplomacy and us soft power capacities in global economics development aid technology creativity and human rights advocacy as such she became the first secretary of state to methodically implement the smart power approach in debates over use of military force she was generally one of the more hawkish voices in the administration in august 2011 she hailed the ongoing multinational military intervention in libya and the initial us response towards the syrian civil war as examples of smart power in action clinton greatly expanded the state departments use of social media including facebook and twitter both to get its message out and to help empower citizens of foreign countries visvis their governments and in the mideast turmoil clinton particularly saw an opportunity to advance one of the central themes of her tenure the empowerment and welfare of women and girls worldwide moreover in a formulation that became known as the hillary doctrine she viewed womens rights as critical for us security interests due to a link between the level of violence against women and gender inequality within a state and the instability and challenge to international security of that state in turn there was a trend of women around the world finding more opportunities and in some cases feeling safer as the result of her actions and visibility clinton visited 112 countries during her tenure making her the most widely traveled secretary of state time magazine wrote that clintons endurance is legendary the first secretary of state to visit countries such as togo and timorleste she believed that inperson visits were more important than ever in the virtual age as early as march 2011 she indicated she was not interested in serving a second term as secretary of state should obama be reelected in 2012 in december 2012 following that reelection obama nominated senator john kerry to be clintons successor her last day as secretary of state was february 1 2013 upon her departure analysts commented that clintons tenure did not bring any signature diplomatic breakthroughs as some other secretaries of state had and highlighted her focus on goals that she thought were less tangible but would have more lasting effect    benghazi attack and subsequent hearings   on september 11 2012 the us diplomatic mission in benghazi libya was attacked resulting in the deaths of the us ambassador j christopher stevens and three other americans the attack questions surrounding the security of the us consulate and the varying explanations given afterward by administration officials for what had happened became politically controversial in the us on october 15 clinton took responsibility for the question of security lapses and said the differing explanations were due to the inevitable fog of war confusion after such events on december 19 a panel led by thomas r pickering and michael mullen issued its report on the matter it was sharply critical of state department officials in washington for ignoring requests for more guards and safety upgrades and for failing to adapt security procedures to a deteriorating security environment it focused its criticism on the departments bureau of diplomatic security and bureau of near eastern affairs four state department officials at the assistant secretary level and below were removed from their posts as a consequence clinton said she accepted the conclusions of the report and that changes were underway to implement its suggested recommendations clinton gave testimony to two congressional foreign affairs committees on january 23 2013 regarding the benghazi attack she defended her actions in response to the incident and while still accepting formal responsibility said she had had no direct role in specific discussions beforehand regarding consulate security congressional republicans challenged her on several points to which she responded in particular after persistent questioning about whether the administration had issued inaccurate talking points after the attack clinton responded with the muchquoted rejoinder with all due respect the fact is we had four dead americans was it because of a protest or was it because of guys out for a walk one night who decided that theyd they go kill some americans what difference at this point does it make it is our job to figure out what happened and do everything we can to prevent it from ever happening again senator in november 2014 the house intelligence committee issued a report that concluded there had been no wrongdoing in the administrations response to the attack  the house select committee on benghazi was created in may 2014 and has conducted lengthy investigations related to the 2012 attack in response to an interviewers question in september 2015 about what the republicans had accomplished in congress house majority leader kevin mccarthy credited the benghazi hearings with lowering clintons poll numbers mccarthys answer contradicted the republicans previous talking points on the investigation for example outgoing speaker of the house john boehner had consistently expressed disgust at any suggestion that the hearings were politically motivated on october 22 2015 clinton testified at an allday and nighttime session before the committee the hearing included many heated exchanges between committee members and clinton and between the committee members themselves clinton was widely seen as emerging largely unscathed from the hearing because of what the media perceived as a calm and unfazed demeanor and a lengthy meandering repetitive line of questioning from the committee    email controversy   a controversy arose in march 2015 when it was revealed by the state departments inspector general that clinton had exclusively used personal email accounts on a nongovernment privately maintained serverin lieu of email accounts maintained on federal government serverswhen conducting official business during her tenure as secretary of state some experts officials members of congress and political opponents contended that her use of private messaging system software and a private server violated state department protocols and procedures and federal laws and regulations governing recordkeeping requirements nearly 2100 emails contained in clintons server were retroactively marked classified by the state department though none of the emails were marked classified at the time they were sent 65 were later classified as secret more than 20 were designated top secret and the rest were later designated as confidential however the intelligence communitys inspector general wrote congress to say that some of the emails contained classified state department information when originated in a joint statement released on july 15 2015 the inspector general of the state department and the inspector general of the intelligence community said that through their review of the emails they found information that was classified when sent remained so as of their inspection and never should have been transmitted via an unclassified personal system they also stated unequivocally that those secrets never should have been stored outside of secure government computer systems mrs clinton had stated over a period of months that she kept no classified information on the private server that she set up in her house government policy reiterated in the nondisclosure agreement signed by clinton as part of gaining her security clearance is that sensitive information can be considered as classified even if not marked as such after allegations were raised that some of the emails in question fell into the socalled born classified category an fbi probe was initiated regarding how classified information was handled on the clinton server in may 2016 the inspector general of the state department criticized her use of a private email server while she was secretary of state stating that she had not requested permission to use it and even if she had she would not have been given permission the controversy occurred against the backdrop of clintons 2016 presidential election campaign and hearings held by the house select committee on benghazi    clinton foundation and speeches   when clinton left the state department she became a private citizen for the first time in thirty years she and her daughter joined her husband as named members of the bill hillary  chelsea clinton foundation in 2013 there she focused on early childhood development efforts including an initiative called too small to fail and a 600 million initiative to encourage the enrollment of girls in secondary schools worldwide led by former australian prime minister julia gillard clinton also led the no ceilings the full participation project a partnership with the bill and melinda gates foundation to gather and study data on the progress of women and girls around the world since the beijing conference in 1995 its march 2015 report said that while there has never been a better time in history to be born a woman  this data shows just how far we still have to go the foundation began accepting new donations from foreign governments which it had stopped doing while she was secretary she began work on another volume of memoirs and made appearances on the paid speaking circuit there she received 200000225000 per engagement often appearing before wall street firms or at business conventions she also made some unpaid speeches on behalf of the foundation for the fifteen months ending in march 2015 clinton earned over 11 million from her speeches for the overall period 200714 the clintons earned almost 141 million paid some 56 million in federal and state taxes and donated about 15 million to charity as of 2015 she was estimated to be worth over 30 million on her own or 4553 million with her husband clinton resigned from the foundations board in april 2015 when she began her presidential campaign and the foundation said it would accept new foreign governmental donations from six western nations only    2016 presidential campaign   on april 12 2015 clinton formally announced her candidacy for the presidency in the 2016 election she had a campaigninwaiting already in place including a large donor network experienced operatives and the ready for hillary and priorities usa action political action committees and other infrastructure the campaigns headquarters were established in the new york city borough of brooklyn focuses of her campaign have included raising middle class incomes establishing universal preschool and making college more affordable and improving the affordable care act initially considered a prohibitive favorite to win the democratic nomination clinton has faced an unexpectedly strong challenge from selfprofessed democratic socialist senator bernie sanders of vermont whose longtime stance against the influence of corporations and the wealthy in american politics has resonated with a dissatisfied citizenry troubled by the effects of income inequality in the us and has contrasted with clintons wall street ties  in the initial contest of the primaries season clinton only very narrowly won the iowa democratic caucuses held february 1 over an increasingly popular sanders making her the first woman to win the iowa caucuses in the first primary held in new hampshire on february 9 she lost to sanders by a wide margin sanders was an increasing threat in the next contest the nevada caucuses on february 20 but clinton managed a fivepercentagepoint win aided by finaldays campaigning among casino workers she followed that with a lopsided victory in the south carolina primary on february 27 these two victories stabilized her campaign and showed an avoidance of the management turmoil that harmed her 2008 effort on the march 1 super tuesday clinton won seven of eleven contests including a string of dominating victories across the south buoyed as in south carolina by africanamerican voters and opened up a significant lead in pledged delegates over sanders she has maintained this delegate lead across subsequent contests over the next several weeks with a consistent pattern through the year being that sanders has done better among younger whiter more rural and more liberal voters and in states that hold caucuses or where eligibility is open to independents while clinton does better among older and more diverse voter populations and in states that hold primaries or where eligibility is restricted to registered democrats    political positions   several organizations have attempted to measure clintons place on the political spectrum scientifically using her senate votes national journals 2004 study of rollcall votes assigned clinton a rating of 30 in the political spectrum relative to the senate at the time with a rating of 1 being most liberal and 100 being most conservative national journals subsequent rankings placed her as the 32ndmost liberal senator in 2006 and 16thmost liberal senator in 2007 a 2004 analysis by political scientists joshua d clinton of princeton university and simon jackman and doug rivers of stanford university found her to be likely the sixthtoeighthmost liberal senator the almanac of american politics edited by michael barone and richard e cohen rated her votes from 2003 through 2006 as liberal or conservative with 100 as the highest rating in three areas economic social and foreign averaged for the four years the ratings are economic  75 liberal 23 conservative social  83 liberal 6 conservative foreign  66 liberal 30 conservative total average  75 liberal 20 conservative organizations have also attempted to give newer assessments of clinton once she reentered elective politics in 2015 based on her stated positions from the 1990s to the present on the issues characterizes her as a left liberal on a twodimensional grid of social and economic ideologies crowdpac which does a data aggregation of campaign contributions votes and speeches gives her a 65l rating on a onedimensional leftright scale from 10l most liberal to 10c most conservative political compass which seeks to portray ideological assessments broader in scope than how us politics is usually framed scores clintons political positions on a twodimensional grid as 70 right on an economic policy scale of 10 left to 10 right and 40 authoritarian on a socialforeign policy scale of 10 libertarian to 10 authoritarian as of the 2016 presidential election cycle interest groups also gave clinton scores based on how well her senate votes aligned with the positions of the group through 2008 she had an average lifetime 90 percent liberal quotient from americans for democratic action and a lifetime 8 percent rating from the american conservative union in a gallup poll conducted during may 2005 54 percent of respondents considered clinton a liberal 30 percent considered her a moderate and 9 percent considered her a conservative    writings and recordings   as first lady of the united states clinton published a weekly syndicated newspaper column titled talking it over from 1995 to 2000 it focused on her experiences and those of women children and families she met during her travels around the world in 1996 clinton presented a vision for the children of america in the book it takes a village and other lessons children teach us the book made the best seller list of the new york times and clinton received the grammy award for best spoken word album in 1997 for the books audio recording other books published by clinton when she was first lady include dear socks dear buddy kids letters to the first pets 1998 and an invitation to the white house at home with history 2000 in 2001 she wrote an afterword to the childrens book beatrices goat in 2003 clinton released a 562page autobiography living history for which publisher simon  schuster paid clinton a nearrecord advance of 8 million the book set a firstweek sales record for a nonfiction work went on to sell more than one million copies in the first month following publication and was translated into twelve foreign languages clintons audio recording of the book earned her a nomination for the grammy award for best spoken word album in 2014 clinton published a second memoir hard choices which focused on her time as secretary of state it has sold about 250000 copies    cultural and political image  over a hundred books and scholarly works have been written about hillary rodham clinton from many perspectives a 2006 survey by the new york observer found a virtual cottage industry of anticlinton literature put out by regnery publishing and other conservative imprints with titles such as madame hillary the dark road to the white house hillarys scheme inside the next clintons ruthless agenda to take the white house and can she be stopped  hillary clinton will be the next president of the united states unless  books praising clinton did not sell nearly as well other than the memoirs written by her and her husband when she ran for senate in 2000 a number of fundraising groups such as save our senate and the emergency committee to stop hillary rodham clinton sprang up to oppose her van natta found that republican and conservative groups viewed her as a reliable bogeyman to mention in fundraising letters on a par with ted kennedy and the equivalent of democratic and liberal appeals mentioning newt gingrich hillary clinton has also been featured in the media and popular culture from a wide spectrum of varying perspectives in 1995 writer todd purdum of the new york times characterized clinton as a rorschach test an assessment echoed at the time by feminist writer and activist betty friedan who said coverage of hillary clinton is a massive rorschach test of the evolution of women in our society she has been the subject of many satirical impressions on saturday night live beginning with her time as first lady and has made guest appearances on the show herself in 2008 and in 2015 to faceoff with her doppelgngers  clinton has often been described in the popular media as a polarizing figure with some arguing otherwise james madison university political science professor valerie sulfaros 2007 study used the american national election studies feeling thermometer polls which measure the degree of opinion about a political figure to find that such polls during clintons first lady years confirm the conventional wisdom that hillary clinton is a polarizing figure with the added insight that affect towards mrs clinton as first lady tended to be very positive or very negative with a fairly constant one fourth of respondents feeling ambivalent or neutral university of california san diego political science professor gary jacobsons 2006 study of partisan polarization found that in a statebystate survey of job approval ratings of the states senators clinton had the fourthlargest partisan difference of any senator with a 50 percentage point difference in approval between new yorks democrats and republicans northern illinois university political science professor barbara burrells 2000 study found that clintons gallup poll favorability numbers broke sharply along partisan lines throughout her time as first lady with 70 to 90 percent of democrats typically viewing her favorably while only 20 to 40 percent of republicans did university of wisconsinmadison political science professor charles franklin analyzed her record of favorable versus unfavorable ratings in public opinion polls and found that there was more variation in them during her first lady years than her senate years the senate years showed favorable ratings around 50 percent and unfavorable ratings in the mid40 percent range franklin noted that this sharp split is of course one of the more widely remarked aspects of sen clintons public image mcgill university professor of history gil troy titled his 2006 biography of her hillary rodham clinton polarizing first lady and wrote that after the 1992 campaign clinton was a polarizing figure with 42 percent of the public saying she came closer to their values and lifestyle than previous first ladies and 41 percent disagreeing troy further wrote that hillary clinton has been uniquely controversial and contradictory since she first appeared on the national radar screen in 1992 and that she has alternately fascinated bedeviled bewitched and appalled americans  burrells study found women consistently rating clinton more favorably than men by about ten percentage points during her first lady years jacobsons study found a positive correlation across all senators between being women and receiving a partisanpolarized response colorado state university communication studies professor karrin vasby anderson describes the first lady position as a site for american womanhood one ready made for the symbolic negotiation of female identity in particular anderson states there has been a cultural bias towards traditional first ladies and a cultural prohibition against modern first ladies by the time of clinton the first lady position had become a site of heterogeneity and paradox burrell as well as biographers jeff gerth and don van natta jr note that clinton achieved her highest approval ratings as first lady late in 1998 not for professional or political achievements of her own but for being seen as the victim of her husbands very public infidelity university of pennsylvania communications professor kathleen hall jamieson saw hillary clinton as an exemplar of the double bind who though able to live in a bothand world of both career and family nevertheless became a surrogate on whom we projected our attitudes about attributes once thought incompatible leading to her being placed in a variety of nowin situations quinnipiac university media studies professor lisa burns found press accounts frequently framing clinton both as an exemplar of the modern professional working mother and as a political interloper interested in usurping power for herself university of indianapolis english professor charlotte templin found political cartoonists using a variety of stereotypes  such as gender reversal radical feminist as emasculator and the wife the husband wants to get rid of  to portray hillary clinton as violating gender norms  going into the early stages of her presidential campaign for 2008 a time magazine cover showed a large picture of her with two checkboxes labeled love her hate her while mother jones titled its profile of her harpy hero heretic hillary democratic netroots activists consistently rated clinton very low in polls of their desired candidates while some conservative figures such as bruce bartlett and christopher ruddy were declaring a hillary clinton presidency not so bad after all an october 2007 cover of the american conservative magazine was titled the waning power of hillary hate by december 2007 communications professor jamieson observed that there was a large amount of misogyny present about clinton on the internet up to and including facebook and other sites devoted to depictions reducing clinton to sexual humiliation she noted in response to widespread comments on clintons laugh that we know that theres language to condemn female speech that doesnt exist for male speech we call womens speech shrill and strident and hillary clintons laugh was being described as a cackle the bitch epithet which had been applied to clinton going back to her first lady days and had been seen by karrin vasby anderson as a tool of containment against women in american politics flourished during the campaign especially on the internet but via conventional media as well following clintons choked up moment and related incidents in the runup to the january 2008 new hampshire primary both the new york times and newsweek found that discussion of genders role in the campaign had moved into the national political discourse newsweek editor jon meacham summed the relationship between clinton and the american public by saying that the new hampshire events brought an odd truth to light though hillary rodham clinton has been on the periphery or in the middle of national life for decades  she is one of the most recognizable but least understood figures in american politics  once she became secretary of state clintons image seemed to improve dramatically among the american public and become one of a respected world figure she gained consistently high approval ratings by 2011 the highest of her career except during the lewinsky scandal and her favorableunfavorable ratings during 2010 and 2011 were the highest of any active nationally prominent american political figure a 2012 internet meme texts from hillary was based around a photograph of clinton sitting on a military plane wearing sunglasses and using a mobile phone and imagined the recipients and contents of her text messages it achieved viral popularity among younger technically adept followers of politics clinton sought to explain her popularity by saying in early 2012 theres a certain consistency to who i am and what i do and i think people have finally said well you know i kinda get her now she continued to do well in gallups most admired man and woman poll and in 2015 she was named the most admired woman by americans for a record fourteenth straight time and twentieth time overall her favorability ratings dropped however after she left office and began to be viewed in the context of partisan politics again by september 2015 with her 2016 presidential campaign underway and beset by continued reports regarding her private email usage at the state department her ratings had slumped to the some of her lowest levels ever during 2016 she acknowledged that im not a natural politician in case you havent noticed journalist indira a r lakshmanan who has covered clinton extensively both as a presidential candidate and as secretary of state believes that clintons persona is almost completely different in the two roles and that while clinton definitely has the political skills that an officeholder needs clearly however something seems to happen to clinton when the task is asking people to vote for her    electoral history     notes     references     cited bibliography     external links   official campaign website former secretary of state hillary rodham clinton 2009 to 2013  department of state white house biography of former first lady hillary rodham clinton  united states congress hillary clinton id c001041 biographical directory of the united states congress  organizations clinton foundation media coverage hillary rodham clinton collected news and commentary at the new york times appearances on cspan other hillary rodham clinton at dmoz official presidential launch speech 4540  june 13 2015 roosevelt island nyc ny on youtube'"
      ]
     },
     "execution_count": 7,
     "metadata": {},
     "output_type": "execute_result"
    }
   ],
   "source": [
    "bio_dict['Hillary Clinton']"
   ]
  },
  {
   "cell_type": "code",
   "execution_count": 8,
   "metadata": {
    "collapsed": false
   },
   "outputs": [
    {
     "data": {
      "text/plain": [
       "u'kanye omari west knje born june 8 1977 is an american hip hop recording artist songwriter record producer fashion designer and entrepreneur he is among the most acclaimed musicians of the 21st century attracting both praise and criticism for his work and outspoken public persona raised in chicago west briefly attended art school before becoming known as a producer for rocafella records in the early 2000s producing hit singles for artists such as jay z and alicia keys intent on pursuing a solo career as a rapper west released his debut album the college dropout in 2004 to widespread critical and commercial success he went on to explore a variety of different musical styles on subsequent albums that included the baroqueinflected late registration 2005 the arenainspired graduation 2007 and the polarizing 808s  heartbreak 2008 in 2010 he released his critically acclaimed fifth album my beautiful dark twisted fantasy and the following year he collaborated with jay z on the joint lp watch the throne 2011 west released his sixth album yeezus to further critical praise in 2013 wests seventh album the life of pablo was released in 2016 wests outspoken views and life outside of music have received significant mainstream attention he has been a frequent source of controversy and public scrutiny for his conduct at award shows on social media and in other public settings his more publicized comments include his unscripted denunciation of president george w bush during a live 2005 television broadcast for hurricane katrina relief and his interruption of singer taylor swift at the 2009 mtv video music awards wests efforts as a designer include collaborations with nike louis vuitton and apc on both clothing and footwear and have most prominently resulted in the yeezy collaboration with adidas beginning in 2013 he is the founder and head of the creative content company donda his 2014 marriage to television personality kim kardashian has also been subject to widespread media coverage west is one of the bestselling artists of all time having sold more than 32 million albums and 100 million digital downloads worldwide he has won a total of 21 grammy awards making him one of the most awarded artists of all time and the most grammyawarded artist of his age three of his albums rank on rolling stones 2012 500 greatest albums of all time list he has also been included in a number of forbes annual lists time named him one of the 100 most influential people in the world in 2005 and 2015    early life  kanye omari west was born on june 8 1977 in atlanta georgia his parents divorced when he was three years old after the divorce he and his mother moved to chicago illinois his father ray west is a former black panther and was one of the first black photojournalists at the atlanta journalconstitution ray west was later a christian counselor and in 2006 opened the good water store and caf in lexington park maryland with startup capital from his son wests mother dr donda c williams west was a professor of english at clark atlanta university and the chair of the english department at chicago state university before retiring to serve as his manager west was raised in a middleclass background attending polaris high school in suburban oak lawn illinois after living in chicago at the age of 10 west moved with his mother to nanjing china where she was teaching at nanjing university as part of an exchange program according to his mother west was the only foreigner in his class but settled in well and quickly picked up the language although he has since forgotten most of it when asked about his grades in high school west replied i got as and bs and im not even frontin west demonstrated an affinity for the arts at an early age he began writing poetry when he was five years old his mother recalled that she first took notice of wests passion for drawing and music when he was in the third grade growing up in chicago west became deeply involved in its hip hop scene he started rapping in the third grade and began making musical compositions in the seventh grade eventually selling them to other artists at age thirteen west wrote a rap song called green eggs and ham and began to persuade his mother to pay 25 an hour for time in a recording studio it was a small crude basement studio where a microphone hung from the ceiling by a wire clothes hanger although this wasnt what wests mother wanted she nonetheless supported him west crossed paths with producerdj no id with whom he quickly formed a close friendship no id soon became wests mentor and it was from him that west learned how to sample and program beats after he received his first sampler at age 15 after graduating from high school west received a scholarship to attend chicagos american academy of art in 1997 and began taking painting classes but shortly after transferred to chicago state university to study english he soon realized that his busy class schedule was detrimental to his musical work and at 20 he dropped out of college to pursue his musical dreams this action greatly displeased his mother who was also a professor at the university she later commented it was drummed into my head that college is the ticket to a good life but some career goals dont require college for kanye to make an album called college dropout it was more about having the guts to embrace who you are rather than following the path society has carved out for you    career     19962002 early work and rocafella records  kanye west began his early production career in the mid1990s making beats primarily for burgeoning local artists eventually developing a style that involved speeding up vocal samples from classic soul records his first official production credits came at the age of nineteen when he produced eight tracks on down to earth the 1996 debut album of a chicago rapper named grav for a time west acted as a ghost producer for deric ddot angelettie because of his association with ddot west wasnt able to release a solo album so he formed and became a member and producer of the gogetters a late1990s chicago rap group composed of him glc timmy g really doe and arrowstar his group was managed by john monopoly johnson don crowley and happy lewis under the management firm hustle period after attending a series of promotional photo shoots and making some radio appearances the gogetters released their first and only studio album world record holders in 1999 the album featured other chicagobased rappers such as rhymefest mikkey halsted miss criss and shayla g meanwhile the production was handled by west arrowstar boogz and brian all day miller west spent much of the late1990s producing records for a number of wellknown artists and music groups the third song on foxy browns second studio album chyna doll was produced by west her second effort subsequently became the very first hiphop album by a female rapper to debut at the top of the us billboard 200 chart in its first week of release west produced three of the tracks on harlem worlds first and only album the movement alongside jermaine dupri and the production duo trackmasters his songs featured rappers nas dragon and rb singer carl thomas the ninth track from world party the last goodie mob album to feature the rap groups four founding members prior to their breakup was coproduced by west with his manager deric ddot angelettie at the close of the millennium west ended up producing six songs for tell em why u madd an album that was released by ddot under the alias of the madd rapper a fictional character he created for a skit on the notorious bigs second and final studio album life after death wests songs featured guest appearances from rappers such as mae raekwon and eminem  west got his big break in the year 2000 when he began to produce for artists on rocafella records west came to achieve recognition and is often credited with revitalizing jayzs career with his contributions to the rap moguls influential 2001 album the blueprint the blueprint is consistently ranked among the greatest hiphop albums and the critical and financial success of the album generated substantial interest in west as a producer serving as an inhouse producer for rocafella records west produced records for other artists from the label including beanie sigel freeway and camron he also crafted hit songs for ludacris alicia keys and janet jackson despite his success as a producer wests true aspiration was to be a rapper though he had developed his rapping long before he began producing it was often a challenge for west to be accepted as a rapper and he struggled to attain a record deal multiple record companies ignored him because he did not portray the gangsta image prominent in mainstream hip hop at the time after a series of meetings with capitol records west was ultimately denied an artist deal according to capitol records ar joe weinberger he was approached by west and almost signed a deal with him but another person in the company convinced capitols president not to desperate to keep west from defecting to another label thenlabel head damon dash reluctantly signed west to rocafella records jayz later admitted that rocafella was initially reluctant to support west as a rapper claiming that many saw him as a producer first and foremost and that his background contrasted with that of his labelmates wests breakthrough came a year later on october 23 2002 when while driving home from a california recording studio after working late he fell asleep at the wheel and was involved in a nearfatal car crash the crash left him with a shattered jaw which had to be wired shut in reconstructive surgery the accident inspired west two weeks after being admitted to the hospital he recorded a song at the record plant studios with his jaw still wired shut the composition through the wire expressed wests experience after the accident and helped lay the foundation for his debut album as according to west all the better artists have expressed what they were going through west added that the album was my medicine as working on the record distracted him from the pain through the wire was first available on wests get well soon mixtape released december 2002 at the same time west announced that he was working on an album called the college dropout whose overall theme was to make your own decisions dont let society tell you this is what you have to do    200306 the college dropout and late registration   carrying a louis vuitton backpack filled with old disks and demos to the studio and back west crafted much of his production for his debut album in less than fifteen minutes at a time he recorded the remainder of the album in los angeles while recovering from the car accident once he had completed the album it was leaked months before its release date however west decided to use the opportunity to review the album and the college dropout was significantly remixed remastered and revised before being released as a result certain tracks originally destined for the album were subsequently retracted among them keep the receipt with ol dirty bastard and the good the bad and the ugly with consequence west meticulously refined the production adding string arrangements gospel choirs improved drum programming and new verses wests perfectionism led the college dropout to have its release postponed three times from its initial date in august 2003 the college dropout was eventually issued by rocafella in february 2004 shooting to number two on the billboard 200 as his debut single through the wire peaked at number fifteen on the billboard hot 100 chart for five weeks slow jamz his second single featuring twista and jamie foxx became an even bigger success it became the three musicians first number one hit the college dropout received nearuniversal critical acclaim from contemporary music critics was voted the top album of the year by two major music publications and has consistently been ranked among the great hiphop works and debut albums by artists jesus walks the albums fourth single perhaps exposed west to a wider audience the songs subject matter concerns faith and christianity the song nevertheless reached the top 20 of the billboard pop charts despite industry executives predictions that a song containing such blatant declarations of faith would never make it to radio the college dropout would eventually be certified triple platinum in the us and garnered west 10 grammy nominations including album of the year and best rap album which it received during this period west also founded good music a record label and management company that would go on to house affiliate artists and producers such as no id and john legend at the time the focal point of wests production style was the use of spedup vocal samples from soul records however partly because of the acclaim of the college dropout such sampling had been much copied by others with that overuse and also because west felt he had become too dependent on the technique he decided to find a new sound  beginning his second effort that fall west would invest two million dollars and take over a year to craft his second album west was significantly inspired by roseland nyc live a 1998 live album by english trip hop group portishead produced with the new york philharmonic orchestra early in his career the live album had inspired him to incorporate string arrangements into his hiphop production though west had not been able to afford many live instruments around the time of his debut album the money from his commercial success enabled him to hire a string orchestra for his second album late registration west collaborated with american film score composer jon brion who served as the albums coexecutive producer for several tracks although brion had no prior experience in creating hiphop records he and west found that they could productively work together after their first afternoon in the studio where they discovered that neither confined his musical knowledge and vision to one specific genre late registration sold over 23 million units in the united states alone by the end of 2005 and was considered by industry observers as the only successful major album release of the fall season which had been plagued by steadily declining cd sales while west had encountered controversy a year prior when he stormed out of the american music awards of 2004 after losing best new artist the rappers first largescale controversy came just days following late registrations release during a benefit concert for hurricane katrina victims in september 2005 nbc broadcast a concert for hurricane relief and west was a featured speaker when west was presenting alongside actor mike myers he deviated from the prepared script myers spoke next and continued to read the script once it was wests turn to speak again he said george bush doesnt care about black people wests comment reached much of the united states leading to mixed reactions president bush would later call it one of the most disgusting moments of his presidency west raised further controversy in january 2006 when he posed on the cover of rolling stone wearing a crown of thorns    200709 graduation and 808s  heartbreak   fresh off spending the previous year touring the world with u2 on their vertigo tour west felt inspired to compose anthemic rap songs that could operate more efficiently in large arenas to this end west incorporated the synthesizer into his hiphop production utilized slower tempos and experimented with electronic music and influenced by music of the 1980s in addition to u2 west drew musical inspiration from arena rock bands such as the rolling stones and led zeppelin in terms of melody and chord progression to make his next effort the third in a planned tetralogy of educationthemed studio albums more introspective and personal in lyricism west listened to folk and country singersongwriters bob dylan and johnny cash in hopes of developing methods to augment his wordplay and storytelling ability  wests third studio album graduation garnered major publicity when its release date pitted west in a sales competition against rapper 50 cents curtis upon their september 2007 releases graduation outsold curtis by a large margin debuting at number one on the us billboard 200 chart and selling 957000 copies in its first week graduation once again continued the string of critical and commercial successes by west and the albums lead single stronger garnered the rapper his third numberone hit stronger which samples french house duo daft punk has been accredited to not only encouraging other hiphop artists to incorporate house and electronica elements into their music but also for playing a part in the revival of disco and electroinfused music in the late 2000s ben detrick of xxl cited the outcome of the sales competition between 50 cents curtis and wests graduation as being responsible for altering the direction of hiphop and paving the way for new rappers who didnt follow the hardcoregangster mold writing if there was ever a watershed moment to indicate hiphops changing direction it may have come when 50 cent competed with kanye in 2007 to see whose album would claim superior sales wests life took a different direction when his mother donda west died of complications from cosmetic surgery involving abdominoplasty and breast reduction in november 2007 months later west and fiance alexis phifer ended their engagement and their longterm intermittent relationship which had begun in 2002 the events profoundly affected west who set off for his 2008 glow in the dark tour shortly thereafter purportedly because his emotions could not be conveyed through rapping west decided to sing using the voice audio processor autotune which would become a central part of his next effort west had previously experimented with the technology on his debut album the college dropout for the background vocals of jesus walks and never let me down recorded mostly in honolulu hawaii in three weeks west announced his fourth album 808s  heartbreak at the 2008 mtv video music awards where he performed its lead single love lockdown music audiences were taken aback by the uncharacteristic production style and the presence of autotune which typified the prerelease response to the record  808s  heartbreak which features extensive use of the eponymous roland tr808 drum machine and contains themes of love loneliness and heartache was released by island def jam to capitalize on thanksgiving weekend in november 2008 reviews were positive though slightly more mixed than his previous efforts despite this the records singles demonstrated outstanding chart performances upon its release the lead single love lockdown debuted at number three on the billboard hot 100 and became a hot shot debut while followup single heartless performed similarly and became his second consecutive hot shot debut by debuting at number four on the billboard hot 100 while it was criticized prior to release 808s  heartbreak had a significant effect on hiphop music encouraging other rappers to take more creative risks with their productions in 2012 rolling stone journalist matthew trammell asserted that the record was ahead of its time and wrote now that popular music has finally caught up to it 808s  heartbreak has revealed itself to be kanyes most vulnerable work and perhaps his most brilliant wests controversial incident the following year at the 2009 mtv video music awards was arguably his biggest controversy and led to widespread outrage throughout the music industry during the ceremony west crashed the stage and grabbed the microphone from winner taylor swift in order to proclaim that instead beyoncs video for single ladies put a ring on it nominated for the same award was one of the best videos of all time he was subsequently withdrawn from the remainder of the show for his actions wests tour with lady gaga was cancelled in response to the controversy and it was suggested that the incident was partially responsible for 808s  heartbreaks lack of nominations at the 52nd grammy awards    201012 my beautiful dark twisted fantasy and collaborations   following the highly publicized incident west took a brief break from music and threw himself into fashion only to hole up in hawaii for the next few months writing and recording his next album importing his favorite producers and artists to work on and inspire his recording west kept engineers behind the boards 24 hours a day and slept only in increments noah callahanbever a writer for complex was present during the sessions and described the communal atmosphere as thus with the right songs and the right album he can overcome any and all controversy and we are here to contribute challenge and inspire a variety of artists contributed to the project including close friends jayz kid cudi and pusha t as well as offthewall collaborations such as with justin vernon of bon iver my beautiful dark twisted fantasy wests fifth studio album was released in november 2010 to rave reviews from critics many of whom described it as his best work that solidified his comeback in stark contrast to his previous effort which featured a minimalist sound dark fantasy adopts a maximalist philosophy and deals with themes of celebrity and excess the record included the international hit all of the lights and billboard hits power monster and runaway the latter of which accompanied a 35minute film of the same name during this time west initiated the free music program good fridays through his website offering a free download of previously unreleased songs each friday a portion of which were included on the album this promotion ran from august 20  december 17 2010 dark fantasy went on to go platinum in the united states but its omission as a contender for album of the year at the 54th grammy awards was viewed as a snub by several media outlets  following a headlining set at coachella 2011 that was described by the hollywood reporter as one of greatest hiphop sets of all time west released the collaborative album watch the throne with jayz by employing a sales strategy that released the album digitally weeks before its physical counterpart watch the throne became one of the few major label albums in the internet age to avoid a leak niggas in paris became the records highest charting single peaking at number five on the billboard hot 100 in 2012 west released the compilation album cruel summer a collection of tracks by artists from wests record label good music cruel summer produced four singles two of which charted within the top twenty of the hot 100 mercy and clique west also directed a film of the same name that premiered at the 2012 cannes film festival in custom pyramidshaped screening pavilion featuring seven screens    201315 yeezus and adidas collaboration   sessions for wests sixth solo effort begin to take shape in early 2013 in his own personal lofts living room at a paris hotel determined to undermine the commercial he once again brought together close collaborators and attempted to incorporate chicago drill dancehall acid house and industrial music primarily inspired by architecture wests perfectionist tendencies led him to contact producer rick rubin fifteen days shy of its due date to strip down the records sound in favor of a more minimalist approach initial promotion of his sixth album included worldwide video projections of the albums music and live television performances yeezus wests sixth album was released june 18 2013 to rave reviews from critics it became the rappers sixth consecutive number one debut but also marked his lowest solo opening week sales def jam issued black skinhead to radio in july 2013 as the albums lead single on september 6 2013 kanye west announced he would be headlining his first solo tour in five years to support yeezus with fellow american rapper kendrick lamar accompanying him along the way in june 2013 west and television personality kim kardashian announced the birth of their first child north in october 2013 west and kardashian announced their engagement to widespread media attention november 2013 west stated that he was beginning work on his next studio album hoping to release it by mid2014 with production by rick rubin and qtip in december 2013 adidas announced the beginning of their official apparel collaboration with west to be premiered the following year in may 2014 west and kardashian were married in a private ceremony in florence italy with a variety of artists and celebrities in attendance west released a single only one featuring paul mccartney on december 31 2014  fourfiveseconds a single jointly produced with rihanna and mccartney was released in january 2015 west also appeared on the saturday night live 40th anniversary special where he premiered a new song entitled wolves featuring sia furler and fellow chicago rapper vic mensa in february 2015 west premiered his clothing collaboration with adidas entitled yeezy season 1 to generally positive reviews this would include wests yeezy boost sneakers in march 2015 west released the single all day featuring theophilus london allan kingdom and paul mccartney west performed the song at the 2015 brit awards with a number of us rappers and uk grime mcs including skepta wiley novelist fekky krept  konan stormzy allan kingdom theophilus london and vic mensa he would premiere the second iteration of his clothing line yeezy season 2 in september 2015 at new york fashion week    2015present the life of pablo and turbo grafx 16   having initially announced a new album entitled so help me god slated for a 2014 release in march 2015 west announced that the album would instead be tentatively called swish later that month west was awarded an honorary doctorate by the school of the art institute of chicago for his contributions to music fashion and popular culture officially making him an honorary dfa the next month west headlined at the glastonbury festival in the uk despite a petition signed by almost 135000 people against his appearance toward the end of the set west proclaimed himself the greatest living rock star on the planet media outlets including social media sites such as twitter were divided on his performance nme stated the decision to book west for the slot has proved controversial since its announcement and the show itself appeared to polarise both glastonbury goers and those who tuned in to watch on their tvs the publication added that hes letting his music speak for and prove itself the guardian said that his set has a potent ferocity  but there are gaps and stutters and he cuts a strangely lone figure in front of the vast crowd in december 2015 west released a song titled facts west announced in january 2016 that swish would be released on february 11 and that month released new songs real friends and a snippet of no more parties in la with kendrick lamar this also revived the good fridays initiative in which kanye releases new singles every friday on january 26 2016 west revealed he had renamed the album from swish to waves and also announced the premier of his yeezy season 3 clothing line at madison square garden in the weeks leading up to the albums release west became embroiled in several twitter controversies and released several changing iterations of the tracklist for the new album several days ahead of its release west again changed the title this time to the life of pablo on february 11 west premiered the album at madison square garden as part of the presentation of his yeezy season 3 clothing line following the preview west announced that he would be modifying the track list once more before its release to the public and further delayed its release to finalize the recording of the track waves at the behest of cowriter chance the rapper he released the album exclusively on tidal on 14 february 2016 following a performance on snl following its official streaming release west continued to tinker with mixes of several tracks describing the work as a living breathing changing creative expression and proclaiming the end of the album as a dominant release form although a statement by west around life of pablos initial release indicated that the album would be a permanent exclusive to tidal the album was released through several other competing services starting in april on february 24 2016 west stated on twitter that he was planning to release another album in the summer of 2016 tentatively called turbo grafx 16 in reference to the 1980s video game console of the same name    musical style     influences and early work  wests musical career has been defined by frequent stylistic shifts and has seen him develop and explore a variety of different musical approaches and genres when asked about his early musical inspirations he has named artists such as a tribe called quest stevie wonder michael jackson george michael ll cool j phil collins and madonna west has named puff daddy as the most important cultural figure in his life and he has also described david bowie as one of his most important inspirations west was formatively mentored by chicago producer no id who introduced him to hip hop production in the early 1990s allowing a teenage west to sit in on recording sessions early in his career west pioneered a style of production dubbed chipmunk soul which utilized pitchedup vocal samples usually from soul and rb songs along with his own drums and instrumentation his first major release featuring his trademark soulful vocal sampling style was this cant be life a track from jayzs the dynasty roc la familia west has said that wutang clan producer rza influenced him in his style and has named wutang rappers ghostface killah and ol dirty bastard as inspirations rza spoke positively of the comparisons stating in an interview for rolling stone i got super respect for kanye  he is going to inspire people to be like him west further developed his style on his 2004 debut album the college dropout after a rough version was leaked he meticulously refined the production adding string arrangements gospel choirs and improved drum programming  for his second album late registration 2005 he collaborated with film score composer jon brion and drew influence from nonrap influences such as english trip hop group portishead blending wests primary soulful hip hop production with brions elaborate chamber pop orchestration the album experimentally incorporated a wide array of different genres and prominent orchestral elements including string arrangements piano chords brass flecks and horn riffs among other symphonic instrumentation it also incorporated a myriad of foreign and vintage instruments not typical in popular music let alone hip hop such as a celesta harpsichord chamberlin cs80 analog synthesizer chinese bells and berimbau vibraphones and marimba rolling stone described late registration as west claiming the whole world of music as hiphop turf chronicling the album as his mad quest to explode every clich about hiphop identity critic robert christgau wrote that theres never been hiphop so complex and subtle musically for a period of time kanye west stood as the sole current pop star to tour with a string section as audible on his 2006 live album late orchestration    middle period  with his third album graduation 2007 west moved away from the soulful sound of his previous releases and towards a more atmospheric rocktinged electronicinfluenced soundscape under the belief that late registration had been too indulgent and poorly arranged he fashioned graduation to contain less ornate production made the album completely devoid of skits and attempted to sequence it as a tighter more cohesive package the musical evolution arose from him listening to music genres encompassing european britpop and eurodisco american alternative and indierock and his native chicago house towards this end west retracted much of the live instrumentation that characterized his previous album and replaced it with heavy gothic synthesizers distorted synthchords rave stabs house beats electrodisco rhythms and a wide array of modulated electronic noises and digital audioeffects in addition west drew musical inspiration from arena rock bands such as the rolling stones u2 and led zeppelin in terms of melody and chord progression similar to its predecessor the album wasnt confined to the conventional looping techniques typical of contemporary hiphop and instead continued to implement sudden musical shifts within its multilayered song structures and express intricately composed introductions bridges and codas  conceived in the wake of several distressing personal events wests fourth studio album 808s  heartbreak 2008 marked a radical departure from his previous releases largely abandoning rap and hip hop stylings in favor of a stark electropop sound composed utilizing the roland tr808 drum machine the autotune vocal processor and virtual synthesis technology the albums music features austere production and elements such as droning synthesizers dense drums lengthy strings and somber piano and drew comparisons to the work of 1980s postpunk and new wave groups west would confess an affinity with artists such as joy division gary numan tj swan and boy george and later described 808s as the first black new wave album maintaining a minimal but functional approach towards the albums studio production west explored the electronic feel produced by his explicitly autotuned vocals and manipulated the sounds created by the 808 modulating its pitch to produce a distorted electronic sound he then sought to juxtapose mechanical sounds with the traditional sounds of taiko drums and choir monks rolling stone journalist matthew trammell asserted that the record was ahead of its time and wrote in a 2012 article now that popular music has finally caught up to it 808s  heartbreak has revealed itself to be kanyes most vulnerable work and perhaps his most brilliant west recorded his fifth album my beautiful dark twisted fantasy 2010 with a wide range of collaborators it has been noted by writers for its maximalist aesthetic and its incorporation of elements from wests previous four albums entertainment weeklys simon vozicklevinson noted that such elements all recur at various points namely the luxurious soul of 2004s the college dropout the symphonic pomp of late registration the gloss of 2007s graduation and the emotionally exhausted electro of 2008s 808s  heartbreak allmusics andy kellman views it as the culmination of those albums while noting that it does not merely draw characteristics from each one of them the 13 tracks  sometimes fuse them together simultaneously consequently the sonic and emotional layers are often difficult to pry apart and enumerate kellman emphasized the track all of the lights as most representative of the albums contrasting elements and maniacal extravagance robert christgau writing for msn music commented that the music eschews the grace of the college dropout and late registration for grandiosity and sonic luxuries    recent work  describing his sixth studio album yeezus 2013 as a protest to music west embraced an abrasive style that incorporated a variety of unconventional influences music critic greg kot described it as a hostile abrasive and intentionally offputting album that combines the worlds of 1980s acidhouse and contemporary chicago drill music 1990s industrial music and the avantrap of saul williams death grips and odd future the album also incorporates elements of trap music as well as dancehall punk and electro inspired by the minimalist design of le corbusier and primarily electronic in nature the album features distorted drum machines and synthesizers that sound like theyre malfunctioning lowresolution samplers that add a pixelated digital aura to the most analog sounds to this end the album incorporates glitches reminiscent of cd skips or corrupted mp3s and autotuned vocals are modulated to a point in which they are difficult to decipher it also continues wests practice of eclectic samples he employs a sample of nina simones strange fruit an obscure hindi sample on i am a god and a sample of 1970s hungarian rock group omega on new slaves on sight interpolates a melody from sermon hell give us what we really need by the holy name of mary choral family rolling stone called the album a brilliant obsessivecompulsive career autocorrect released in 2016 after several years of delays wests seventh album the life of pablo was noted for its raw occasionally even intentionally messy composition in distinction to wests previous albums rolling stone wrote that this is a messy album that feels like it was made that way on purpose after the lasersharp intensity of yeezus stating that its designed to sound like a work in progress carl wilson of slate characterized the album as creating strange links between kanyes many iterationssoulsample enthusiast heartbroken autotune crooner hedonistic avantpop composer industrialrap shittalker suggesting that the point is that in the context of all this sonic landscaping in wests kamikaze moodswinging way pablo now seems undeniably not halfassedly as id been about to conclude like an album of struggle he also noted the albums use of autotune a cappella as well as bass and percussion lines that are only the tailend decay of some lost starting place some vanished rhythmic eden west initially characterized the release as a gospel album greg kot of the chicago tribune wrote in his review of the life of pablo wests version of gospel touches on some of those sonic cues  heavy organ soaring choirs  but seems more preoccupied with gospel text and the notion of redemption    other ventures     fashion  early in his career west made clear his interest in fashion and desire to work in the clothing design industry in september 2005 west announced that he would release his pastelle clothing line in spring 2006 claiming now that i have a grammy under my belt and late registration is finished i am ready to launch my clothing line next spring the line was developed over the following four years  with multiple pieces teased by west himself  before the line was ultimately cancelled in 2009 in 2009 west collaborated with nike to release his own shoe the air yeezys with a second version released in 2012 in january 2009 west introduced his first shoe line designed for louis vuitton during paris fashion week the line was released in summer 2009 west has additionally designed shoewear for bape and italian shoemaker giuseppe zanotti on october 1 2011 kanye west premiered his womens fashion label dw kanye west at paris fashion week he received support from dsquared2 duo dean and dan caten olivier theyskens jeremy scott azzedine alaa and the olsen twins who were also in attendance during his show his debut fashion show received mixedtonegative reviews ranging from reserved observations by stylecom to excoriating commentary by the wall street journal the new york times the international herald tribune elleukcom the daily telegraph harpers bazaar and many others on march 6 2012 west premiered a second fashion line at paris fashion week the lines reception was markedly improved from the previous presentation with a number of critics heralding west for his much improved sophomore effort  on december 3 2013 adidas officially confirmed a new shoe collaboration deal with west after months of anticipation and rumors west confirmed the release of the adidas yeezy boosts with a twitter announcement directing fans to the domain yeezysupply in 2015 west unveiled his yeezy season clothing line premiering season 1 in collaboration with adidas early in the year the release of the yeezy boosts and the full adidas collaboration was showcased in new york city on february 12 2015 with free streaming to 50 cinemas in 13 countries around the world an initial release of the adidas yeezy boosts was limited to 9000 pairs to be available only in new york city via the adidas smartphone app the adidas yeezy boosts were sold out within 10 minutes the shoes released worldwide on february 28 2015 were limited to select boutique stores and the adidas uk stores he followed with season 2 later that year at new york fashion week on february 11 west premiered his yeezy season 3 clothing line at madison square garden in conjunction with the previewing of his album the life of pablo    business ventures  west founded the record label and production company good music in 2004 in conjunction with sony bmg shortly after releasing his debut album the college dropout john legend common and west were the labels inaugural artists the label houses artists including west big sean pusha t teyana taylor yasiin bey  mos def dbanj and john legend and producers including hudson mohawke qtip travis scott no id jeff bhasker and s1 good music has released ten albums certified gold or higher by the recording industry association of america riaa in november 2015 west appointed pusha t the new president of good music in august 2008 west revealed plans to open 10 fatburger restaurants in the chicago area the first was set to open in september 2008 in orland park the second followed in january 2009 while a third location is yet to be revealed although the process is being finalized his company kw foods llc bought the rights to the chain in chicago ultimately in 2009 only two locations actually opened in february 2011 west shut down the fatburger located in orland park later that year the remaining beverly location also was shuttered  on january 5 2012 west announced his establishment of the creative content company donda named after his late mother donda west in his announcement west proclaimed that the company would pick up where steve jobs left off donda would operate as a design company which will galvanize amazing thinkers in a creative space to bounce their dreams and ideas with the goal to make products and experiences that people want and can afford west is notoriously secretive about the companys operations maintaining neither an official website nor a social media presence in stating dondas creative philosophy west articulated the need to put creatives in a room together with like minds in order to simplify and aesthetically improve everything we see taste touch and feel contemporary critics have noted the consistent minimalistic aesthetic exhibited throughout donda creative projects on march 30 2015 it was announced that west is a coowner with various other music artists in the music streaming service tidal the service specialises in lossless audio and high definition music videos jay z acquired the parent company of tidal aspiro in the first quarter of 2015 including beyonc and jayz sixteen artist stakeholders such as rihanna beyonc madonna chris martin nicki minaj and more coown tidal with the majority owning a 3 equity stake the idea of having an all artist owned streaming service was created by those involved to adapt to the increased demand for streaming within the current music industry and to rival other streaming services such as spotify which have been criticised for their low payout of royalties the challenge is to get everyone to respect music again to recognize its value stated jayz on the release of tidal    philanthropy  west alongside his mother founded the kanye west foundation in chicago in 2003 tasked with a mission to battle dropout and illiteracy rates while partnering with community organizations to provide underprivileged youth access to music education in 2007 the west and the foundation partnered with strong american schools as part of their ed in 08 campaign as spokesman for the campaign west appeared in a series of psas for the organization and hosted an inaugural benefit concert in august of that year in 2008 following the death of wests mother the foundation was rechristened the dr donda west foundation  the foundation ceased operations in 2011 kanye west and friend rhymefest also founded dondas house inc got bars is the dondas house signature musiclyric composition and performance program participants are selected through an application and audition process got bars is a free music writing program with the goal of helping atrisk chicago youth it is aimed at students between 15 and 24 and includes lessons on how to write and record music their curriculum is based on the teaching philosophy and pedagogy of dr donda west with a focus on collaborative and experiential learning west has additionally appeared and participated in many fundraisers benefit concerts and has done community work for hurricane katrina relief the kanye west foundation the millions more movement 100 black men of america a live earth concert benefit world water day rally and march nike runs and a mtv special helping young iraq war veterans who struggle through debt and ptsd a second chance after returning home    controversies     general media  west has been an outspoken and controversial celebrity throughout his career receiving both criticism and praise from many including the mainstream media other artists and entertainers and two us presidents on september 2 2005 during a benefit concert for hurricane katrina relief on nbc a concert for hurricane relief west a featured speaker accused president george w bush of not caring about black people when west was presenting alongside actor mike myers he deviated from the prepared script to criticize the medias portrayal of hurricane victims saying  i hate the way they portray us in the media you see a black family it says theyre looting you see a white family it says theyre looking for food and you know its been five days waiting for federal help because most of the people are black and even for me to complain about it i would be a hypocrite because ive tried to turn away from the tv because its too hard to watch ive even been shopping before even giving a donation so now im calling my business manager right now to see what is the biggest amount i can give and just to imagine if i was down there and those are my people down there so anybody out there that wants to do anything that we can helpwith the way america is set up to help the poor the black people the less welloff as slow as possible i mean the red cross is doing everything they can we already realize a lot of people that could help are at war right now fighting another wayand theyve given them permission to go down and shoot us  myers spoke next and continued to read the script once it was wests turn to speak again he said george bush doesnt care about black people at this point telethon producer rick kaplan cut off the microphone and then cut away to chris tucker who was unaware of the cut for a few seconds still wests comment reached much of the united states bush stated in an interview that the comment was one of the most disgusting moments of his presidency in november 2010 in a taped interview with matt lauer for the today show west expressed regret for his criticism of bush i would tell george bush in my moment of frustration i didnt have the grounds to call him a racist he told lauer i believe that in a situation of high emotion like that we as human beings dont always choose the right words the following day bush reacted to the apology in a live interview with lauer saying he appreciated the rappers remorse im not a hater bush said i dont hate kanye west i was talking about an environment in which people were willing to say things that hurt nobody wants to be called a racist if in your heart you believe in equality of races reactions were mixed but some felt that west had no need to apologize it was not the particulars of your words that mattered it was the essence of a feeling of the insensitivity towards our communities that many of us have felt for far too long argued def jam cofounder russell simmons bush himself was receptive to the apology saying i appreciate that it wasnt just kanye west who was talking like that during katrina i cited him as an example i cited others as an example as well you know i appreciate that in september 2013 west was widely rebuked by human rights groups for performing in kazakhstan at the wedding of authoritarian president nursultan nazarbayevs grandson he traveled to kazakhstan which has one of the poorest human rights records in the world as a personal guest of nazarbayev other notable western performers including sting have previously cancelled performances in the country over human rights concerns west was reportedly paid us3 million for his performance west had previously participated in cultural boycotts joining shakira and rage against the machine in refusing to perform in arizona after the 2010 implementation of stop and search laws directed against potential illegal aliens later in 2013 west launched a tirade on twitter directed at talk show host jimmy kimmel after his abc program jimmy kimmel live ran a sketch on september 25 involving two children reenacting wests recent interview with zane lowe for bbc radio 1 in which he calls himself the biggest rock star on the planet kimmel reveals the following night that west called him to demand an apology shortly before taping during a november 26 2013 radio interview west explained why he believed that president obama had problems pushing policies in washington man let me tell you something about george bush and oil money and obama and no money people want to say obama cant make these moves or hes not executing thats because he aint got those connections black people dont have the same level of connections as jewish peoplewe aint jewish we dont got family that got money like that in response to his comments the antidefamation league stated there it goes again the ageold canard that jews are allpowerful and control the levers of power in government on december 21 2013 west backed off of the original comment and told a chicago radio station that i thought i was giving a compliment but if anything it came off more ignorant i dont know how being told you have money is an insult in february 2016 west again became embroiled in controversy when he posted a tweet seemingly asserting bill cosbys innocence in the wake of over 50 women making allegations of sexual assault directed at cosby that same month west became embroiled in a shortlived social media altercation with rapper wiz khalifa on twitter that eventually involved their mutual expartner amber rose who protested to wests mention of her and khalifas child the feud involved allegations by rose concerning her sexual relationship with west and received significant media attention as of february 2 2016 west and khalifa had reconciled    award shows  in 2004 west had his first of a number of public incidents during his attendance at music award events at the american music awards of 2004 west stormed out of the auditorium after losing best new artist to country singer gretchen wilson he later commented i felt like i was definitely robbed  i was the best new artist this year after the 2006 grammy nominations were released west said he would really have a problem if he did not win the album of the year saying i dont care what i do i dont care how much i stunt  you can never take away from the amount of work i put into it i dont want to hear all of that politically correct stuff on november 2 2006 when his touch the sky failed to win best video at the mtv europe music awards west went onto the stage as the award was being presented to justice and simian for we are your friends and argued that he should have won the award instead hundreds of news outlets worldwide criticized the outburst on november 7 2006 west apologized for this outburst publicly during his performance as support act for u2 for their vertigo concert in brisbane he later spoofed the incident on the 33rd season premiere of saturday night live in september 2007 on september 9 2007 west suggested that his race had something to do with his being overlooked for opening the 2007 mtv video music awards vmas in favor of britney spears he claimed maybe my skins not right west was performing at the event that night he lost all five awards that he was nominated for including best male artist and video of the year after the show he was visibly upset that he had lost at the vmas two years in a row stating that he would not come back to mtv ever again he also appeared on several radio stations saying that when he made the song stronger that it was his dream to open the vmas with it he has also stated that spears has not had a hit in a long period of time and that mtv exploited her for ratings  on september 13 2009 during the 2009 mtv video music awards while taylor swift was accepting her award for best female video for you belong with me west went on stage and grabbed the microphone to proclaim that beyoncs video for single ladies put a ring on it nominated for the same award was one of the best videos of all time he was subsequently removed from the remainder of the show for his actions when beyonc later won the award for best video of the year for single ladies put a ring on it she called swift up on stage so that she could finish her acceptance speech west was criticized by various celebrities for the outburst and by president barack obama who called west a jackass in addition wests vma disruption sparked a large influx of internet photo memes with blogs forums and tweets with the let you finish photojokes he posted a tweet soon after the event where he stated everybody wanna booooo me but im a fan of real pop culture im not crazy yall im just real he then posted two apologies for the outburst on his personal blog one on the night of the incident and the other the following day when he also apologized during an appearance on the jay leno show after swift appeared on the view two days after the outburst partly to discuss the matter west called her to apologize personally swift said she accepted his apology in september 2010 west wrote a series of apologetic tweets addressed to swift including beyonce didnt need that mtv didnt need that and taylor and her family friends and fans definitely didnt want or need that and concluding with im sorry taylor he also revealed he had written a song for swift and if she did not accept the song he would perform it himself however on november 8 2010 in an interview with a minnesota radio station he seemed to recant his past apologies by attempting to describe the act at the 2009 awards show as selfless and downgrade the perception of disrespect it created in famous a track from his 2016 album the life of pablo west implies that this incident led to swifts stardom rapping i feel like me and taylor might still have sex why i made that bitch famous after some media backlash about the reference west posted on twitter i did not diss taylor swift and ive never dissed herfirst thing is im an artist and as an artist i will express how i feel with no censorship he continued by adding that he had asked both swift and his wife kim kardashian for permission to publish the line on february 8 2015 at the 57th annual grammy awards west walked on stage as beck was accepting his award for album of the year and then walked off stage leaving the audience to think he was joking  after the awards show west stated in an interview that he was not joking and that beck needs to respect artistry he should have given his award to beyonc on february 26 2015 he publicly apologized to beck on twitter on august 30 2015 west was presented with the michael jackson video vanguard award at the mtv video music awards in his acceptance speech he stated yall might be thinking right now i wonder did he smoke something before he came out here and the answer is yes i rolled up a little something i knocked the edge off at the end of his speech he announced i have decided in 2020 to run for president    petitions  music fans have turned to changeorg around the globe to try and block wests participation at various events the largest unsuccessful petition has been to the glastonbury festival 2015 with 133000 voters stating they would prefer a rock band to headline on july 20 2015 within five days of wests announcement as the headlining artist of the closing ceremonies of the 2015 pan american games changeorg user xyz collected over 50000 signatures for wests removal as headliner citing the headlining artist should be canadian in his pan american games closing ceremony performance close to the end of his performance west closed the show by tossing his faulty microphone in the air and walked off stage    personal life     relationships   west began an onandoff relationship with designer alexis phifer in 2002 and they became engaged in august 2006 the pair ended their 18month engagement in 2008 west subsequently dated model amber rose from 2008 until the summer of 2010 west began dating reality star and longtime friend kim kardashian in april 2012 west and kardashian became engaged in october 2013 and married on may 24 2014 at fort di belvedere in florence italy their private ceremony was subject to widespread mainstream coverage with west taking issue with the couples portrayal in the media they have two children daughter north nori west born june 15 2013 and son saint west born december 5 2015 in april 2015 west and kardashian traveled to jerusalem to have north baptized in the armenian apostolic church at the cathedral of st james the couples high status and respective careers have resulted in their relationship becoming subject to heavy media coverage the new york times referred to their marriage as a historic blizzard of celebrity    mothers death  on november 10 2007 at approximately 735 pm paramedics responding to an emergency call transported wests mother donda west to the nearby centinela freeman hospital in marina del rey california she was unresponsive in the emergency room and after resuscitation attempts doctors pronounced her dead at approximately 830 pm at age 58 the los angeles county coroners office said in january 2008 that west had died of heart disease while suffering multiple postoperative factors after plastic surgery she had undergone liposuction and breast reduction beverly hills plastic surgeon andre aboolian had refused to do the surgery because west had a health condition that placed her at risk for a heart attack aboolian referred her to an internist to investigate her cardiac issue she never met with the doctor recommended by aboolian and had the procedures performed by a third doctor jan adams  adams sent condolences to donda wests family but declined to publicly discuss the procedure citing confidentiality wests family through celebrity attorney ed mcpherson filed complaints with the medical board against adams and aboolian for violating patient confidentiality following her death adams had previously been under scrutiny by the medical board he appeared on larry king live on november 20 2007 but left before speaking two days later he appeared again with his attorney stating he was there to defend himself he said that the recently released autopsy results spoke for themselves the final coroners report january 10 2008 concluded that donda west died of coronary artery disease and multiple postoperative factors due to or as a consequence of liposuction and mammoplasty the funeral and burial for donda west was held in oklahoma city on november 20 2007 west played his first concert following the funeral at the o2 in london on november 22 he dedicated a performance of hey mama as well as a cover of journeys dont stop believin to his mother and did so on all other dates of his glow in the dark tour at a december 2008 press conference in new zealand west spoke about his mothers death for the first time it was like losing an arm and a leg and trying to walk through that he told reporters california governor arnold schwarzenegger signed the donda west law legislation which makes it mandatory for patients to provide medical clearance for elective cosmetic surgery    legal issues  in december 2006 robert evel knievel sued west for trademark infringement in wests video for touch the sky knievel took issue with a sexually charged video in which west takes on the persona of evel kanyevel and attempts flying a rocket over a canyon the suit claimed infringement on knievels trademarked name and likeness knievel also claimed that the vulgar and offensive images depicted in the video damaged his reputation the suit sought monetary damages and an injunction to stop distribution of the video wests attorneys argued that the music video amounted to satire and therefore was covered under the first amendment just days before his death in november 2007 knievel amicably settled the suit after being paid a visit from west saying i thought he was a wonderful guy and quite a gentleman on september 11 2008 west and his road managerbodyguard don don c crowley were arrested at los angeles international airport and booked on charges of felony vandalism after an altercation with the paparazzi in which west and crowley broke the photographers cameras west was later released from the los angeles police departments pacific division station in culver city on 20000 bail bond on september 26 2008 the los angeles county district attorneys office said it would not file felony counts against west over the incident instead the case file was forwarded to the city attorneys office which charged west with one count of misdemeanor vandalism one count of grand theft and one count of battery and his manager with three counts of each on march 18 2009 wests and crowleys arraignment was delayed from an original date of april 14 2009 west was arrested again on november 14 2008 at the hilton hotel near gateshead after another scuffle involving a photographer outside the famous tup tup palace nightclub in newcastle upon tyne he was later released with no further action according to a police spokesperson on july 19 2013 west was leaving lax as he was surrounded by dozens of paparazzi west became increasingly agitated as a photographer daniel ramos continued to ask him why people were not allowed to speak in his presence west then says i told you dont talk to me right you trying to get me in trouble so i steal off on you and have to pay you like 250000 and shit then he allegedly charged the man and grabbed him and his camera the incident captured by tmz took place for a few seconds before a female voice can be heard telling west to stop west then released the man and his camera and drove away from the scene medics were later called to the scene on behalf of the photographer who was grabbed it was reported west could be charged with felony attempted robbery behind the matter however the charges were reduced to misdemeanor criminal battery and attempted grand theft in march 2014 west was sentenced to serve two years probation for the misdemeanor battery conviction and required to attend 24 anger management sessions perform 250 hours of community service and pay restitution to ramos    religious beliefs  after the success of his song jesus walks from the album the college dropout west was questioned on his beliefs and said i will say that im spiritual i have accepted jesus as my savior and i will say that i fall short every day in a 2008 interview with the fader west stated that im like a vessel and god has chosen me to be the voice and the connector in a 2009 interview with online magazine bossip west clarified that he believed in god but would never go into a religion explaining that i feel like religion is more about separation and judgment than bringing people together and understanding thats all im about more recently in september 2014 west referred to himself as a christian during one of his concerts    legacy   west is among the most critically acclaimed artists of the twentyfirst century receiving praise from music critics fans fellow musicians artists and wider cultural figures for his work allmusic editor jason birchmeier writes of his impact as his career progressed throughout the early 21st century west shattered certain stereotypes about rappers becoming a superstar on his own terms without adapting his appearance his rhetoric or his music to fit any one musical mold jon caramanica of the new york times said that west has been a frequent lightning rod for controversy a bombastic figure who can count rankling two presidents among his achievements village voice media senior editor ben westhoff dubbed him the greatest hip hop artist of all time writing that hes made the best albums and changed the game the most and his music is the most likely to endure while complex called him the 21st centurys most important artist of any art form of any genre in 2016 the guardian compared west to the late david bowie within the modern mainstream arguing that there is nobody else who can sell as many records as west does  while remaining so resolutely experimental and capable of stirring things up culturally and politically wests middleclass background flamboyant fashion sense and outspokenness have set him apart from other rappers rolling stone credited west with transforming hip hops mainstream establishing a style of introspective yet glossy rap  and called him as interesting and complicated a pop star as the 2000s produceda rapper who mastered upped and moved beyond the hiphop game a producer who created a signature sound and then abandoned it to his imitators a flashy freespending sybarite with insightful things to say about college culture and economics an egomaniac with more than enough artistic firepower to back it up early in his career he was among the first rappers to publicly criticize the preponderance of homophobia in hip hop the sales competition between rapper 50 cents curtis and wests graduation altered the direction of hip hop and helped pave the way for new rappers who did not follow the hardcoregangster mold rosie swash of the guardian viewed the sales competition as a historical moment in hiphop because it highlighted the diverging facets of hiphop in the last decade the former was gangsta rap for the noughties while west was the thinking mans alternative his 2008 album 808s  heartbreak polarized both listeners and critics upon its release but was commercially successful and impacted hip hop and pop stylistically as it laid the groundwork for a new wave of artists who generally eschewed typical rap braggadocio for intimate subject matter and introspection including frank ocean the weeknd drake future kid cudi childish gambino lil durk chief keef and soulja boy according to ben detrick of xxl magazine west effectively led a new wave of artists including kid cudi wale lupe fiasco kidz in the hall and drake who lacked the interest or ability to rap about gunplay or drugdealing  a substantial number of artists and other figures have professed admiration for wests work including hip hop artists rza of wutang clan chuck d of public enemy and dj premier of gang starr experimental rock pioneer and velvet underground founder lou reed said of west that the guy really really really is talented hes really trying to raise the bar no ones near doing what hes doing its not even on the same planet musicians such as paul mccartney and prince have also commended wests work famed tesla motors ceo and inventor elon musk complimented west in a piece for time magazines 100 most influential people list writing that  kanye west would be the first person to tell you he belongs on this list the dude doesnt believe in false modesty and he shouldnt  he fought for his place in the cultural pantheon with a purpose in his debut album over a decade ago kanye issued what amounted to a social critique and a call to arms with a beat we rappers is role models we rap we dont think but kanye does think constantly about everything and he wants everybody else to do the same to engage question push boundaries now that hes a popculture juggernaut he has the platform to achieve just that hes not afraid of being judged or ridiculed in the process kanyes been playing the long game all along and were only just beginning to see why  drake nicki minaj and casey veggies have acknowledged being influenced directly by west nonrap artists such as english singersongwriters adele and lily allen new zealand artist lorde english rock band arctic monkeys american pop singer halsey american pop rock singer andy grammar sergio pizzorno of english rock band kasabian and the american indie rock bands mgmt and yeah yeah yeahs have cited west as an influence experimental and electronic artists such as james blake daniel lopatin and tim hecker have also cited wests work as an inspiration    accolades   wests first six solo studio albums all of which have gone platinum have received numerous awards and critical acclaim all of his albums have been commercially successful with yeezus his sixth solo album becoming his fifth consecutive no 1 album in the us upon release west has had six songs exceed 3 million in digital sales as of december 2012 with gold digger selling 3086000 stronger selling 4402000 heartless selling 3742000 et selling over 4000000 love lockdown selling over 3000000 and niggas in paris selling over 3000000 placing him third in overall digital sales of the past decade he has sold over 30 million digital songs in the united states making him one of the bestselling digital artists of alltime  as of 2013 west has won a total of 21 grammy awards making him one of the most awarded artists of alltime aboutcom ranked kanye west no 8 on their top 50 hiphop producers list on may 16 2008 kanye west was crowned by mtv as the years no 1 hottest mc in the game on december 17 2010 kanye west was voted as the mtv man of the year by mtv billboard ranked kanye west no 3 on their list of top 10 producers of the decade west ties with bob dylan for having topped the annual pazz  jop critic poll the most number of times ever with four numberone albums each west has also been included twice in the time 100 annual lists of the most influential people in the world as well as being listed in a number of forbes annual lists in its 2012 list of 500 greatest albums of all time rolling stone included three of wests albumsthe college dropout at number 298 late registration at number 118 and my beautiful dark twisted fantasy at number 353 the pitchfork online music publication ranked my beautiful dark twisted fantasy as the worlds best album of the decade so farbetween 2010 and 2014on august 19 2014 while yeezus was ranked in the eighth position of a list of 100 albums during the same week the song runaway featuring pusha t was ranked in the third position in the publications list of the 200 best tracks released since 2010    discography   studio albums the college dropout 2004 late registration 2005 graduation 2007 808s  heartbreak 2008 my beautiful dark twisted fantasy 2010 watch the throne with jayz 2011 yeezus 2013 the life of pablo 2016 turbo grafx 16 2016    videography  the college dropout video anthology 2004 late orchestration 2006 vh1 storytellers 2010    tours  touch the sky tour 2005 glow in the dark tour 2008 fame kills starring kanye west and lady gaga cancelled 200910 watch the throne tour with jayz 201112 the yeezus tour 201314    filmography     film     television     bibliography  raising kanye life lessons from the mother of a hiphop superstar 2007 thank you and youre welcome 2009 through the wire lyrics  illuminations 2009 glow in the dark 2009    see also   kanye west portal    references  notes  further reading kanye in oxford the yeezox highlights retrieved april 27 2015    external links  official website kanye west at allmusic kanye west at the internet movie database'"
      ]
     },
     "execution_count": 8,
     "metadata": {},
     "output_type": "execute_result"
    }
   ],
   "source": [
    "bio_list[0]"
   ]
  },
  {
   "cell_type": "markdown",
   "metadata": {},
   "source": [
    "## Stopwords, stemming, and tokenizing"
   ]
  },
  {
   "cell_type": "markdown",
   "metadata": {},
   "source": [
    "This section is focused on defining some functions to manipulate the synopses. For this purpouse we load NLTK's list of English stop words. Stop words are words that do not carry significant meaning, such as \"a\", \"the\", or \"in\" "
   ]
  },
  {
   "cell_type": "code",
   "execution_count": 9,
   "metadata": {
    "collapsed": false
   },
   "outputs": [
    {
     "name": "stdout",
     "output_type": "stream",
     "text": [
      "[u'i', u'me', u'my', u'myself', u'we', u'our', u'ours', u'ourselves', u'you', u'your', u'yours', u'yourself', u'yourselves', u'he', u'him', u'his', u'himself', u'she', u'her', u'hers', u'herself', u'it', u'its', u'itself', u'they', u'them', u'their', u'theirs', u'themselves', u'what', u'which', u'who', u'whom', u'this', u'that', u'these', u'those', u'am', u'is', u'are', u'was', u'were', u'be', u'been', u'being', u'have', u'has', u'had', u'having', u'do', u'does', u'did', u'doing', u'a', u'an', u'the', u'and', u'but', u'if', u'or', u'because', u'as', u'until', u'while', u'of', u'at', u'by', u'for', u'with', u'about', u'against', u'between', u'into', u'through', u'during', u'before', u'after', u'above', u'below', u'to', u'from', u'up', u'down', u'in', u'out', u'on', u'off', u'over', u'under', u'again', u'further', u'then', u'once', u'here', u'there', u'when', u'where', u'why', u'how', u'all', u'any', u'both', u'each', u'few', u'more', u'most', u'other', u'some', u'such', u'no', u'nor', u'not', u'only', u'own', u'same', u'so', u'than', u'too', u'very', u's', u't', u'can', u'will', u'just', u'don', u'should', u'now']\n"
     ]
    }
   ],
   "source": [
    "stopwords = nltk.corpus.stopwords.words('english')\n",
    "print stopwords"
   ]
  },
  {
   "cell_type": "markdown",
   "metadata": {},
   "source": [
    "Next we import the Snowball Stemmer (it is part of NLTK). Stemming is the process of breaking a word down into its root."
   ]
  },
  {
   "cell_type": "code",
   "execution_count": 10,
   "metadata": {
    "collapsed": false
   },
   "outputs": [],
   "source": [
    "# We load nltk's SnowballStemmer as variabled 'stemmer'\n",
    "from nltk.stem.snowball import SnowballStemmer\n",
    "stemmer = SnowballStemmer(\"english\")"
   ]
  },
  {
   "cell_type": "markdown",
   "metadata": {},
   "source": [
    "Let's define two functions:\n",
    "* tokenize_and_stem: tokenizes (splits the synopsis into a list of its respective words (or tokens) and also stems each token\n",
    "* tokenize_only: tokenizes the synopsis only\n",
    "\n",
    "These functions create a dictionary which becomes important in case we need to use stems for an algorithm, but later convert stems back to their full words for presentation purposes. "
   ]
  },
  {
   "cell_type": "code",
   "execution_count": 11,
   "metadata": {
    "collapsed": true
   },
   "outputs": [],
   "source": [
    "# Tokenizer and stemmer...\n",
    "def tokenize_and_stem(text):\n",
    "    \"\"\"\n",
    "        Tokenizer and stemmer function that returns a set of stems in the text passed \n",
    "        to the argument. It returns a list\n",
    "    \"\"\"\n",
    "    # We construct  a list of tokens ...\n",
    "    tokens = [word for sent in nltk.sent_tokenize(text) for word in nltk.word_tokenize(sent)]\n",
    "    # ... set an empty list for filtered tokens\n",
    "    filtered_tokens = []\n",
    "    # filter out any tokens not containing letters (e.g., numeric tokens, raw punctuation)\n",
    "    for token in tokens:\n",
    "        if re.search('[a-zA-Z]', token):\n",
    "            filtered_tokens.append(token)\n",
    "    stems = [stemmer.stem(t) for t in filtered_tokens]\n",
    "    return stems"
   ]
  },
  {
   "cell_type": "code",
   "execution_count": 12,
   "metadata": {
    "collapsed": true
   },
   "outputs": [],
   "source": [
    "# Tokenizer...\n",
    "def tokenize_only(text):\n",
    "    \"\"\"\n",
    "       Function that tokenizes first by sentence and then by word (punctuaction is caught)\n",
    "    \"\"\"\n",
    "    tokens = [word.lower() for sent in nltk.sent_tokenize(text) for word in nltk.word_tokenize(sent)]\n",
    "    filtered_tokens = []\n",
    "    # filter out any tokens not containing letters (e.g., numeric tokens, raw punctuation)\n",
    "    for token in tokens:\n",
    "        if re.search('[a-zA-Z]', token):\n",
    "            filtered_tokens.append(token)\n",
    "    return filtered_tokens"
   ]
  },
  {
   "cell_type": "markdown",
   "metadata": {},
   "source": [
    "We define yet another function that realies in the previous two to iterate over the list of biographies to create two vocabularies: one stemmed and one only tokenized."
   ]
  },
  {
   "cell_type": "code",
   "execution_count": 13,
   "metadata": {
    "collapsed": true
   },
   "outputs": [],
   "source": [
    "def totalvocab_stemmed_tokenized(biographies_list):\n",
    "    \"\"\"\n",
    "       Function that returns two lists of vocabularies, one stemmed and the other one\n",
    "       only tokenized\n",
    "    \"\"\"\n",
    "    totalvocab_stemmed = []\n",
    "    totalvocab_tokenized = []\n",
    "    for bio in biographies_list:\n",
    "        allwords_stemmed = tokenize_and_stem(bio) #for each item in 'synopses', tokenize/stem\n",
    "        totalvocab_stemmed.extend(allwords_stemmed) #extend the 'totalvocab_stemmed' list\n",
    "    \n",
    "        allwords_tokenized = tokenize_only(bio)\n",
    "        totalvocab_tokenized.extend(allwords_tokenized)\n",
    "    return totalvocab_stemmed, totalvocab_tokenized"
   ]
  },
  {
   "cell_type": "code",
   "execution_count": 14,
   "metadata": {
    "collapsed": false
   },
   "outputs": [],
   "source": [
    "totalvocab_stemmed, totalvocab_tokenized =  totalvocab_stemmed_tokenized(bio_list)"
   ]
  },
  {
   "cell_type": "markdown",
   "metadata": {},
   "source": [
    "Let's create a pandas DataFrame based on these two lists with the stemmed vocabulary as the index and the tokenized words as the column. \n",
    "\n",
    "The benefit of this is it provides an efficient way to look up a stem and return a full token. The downside here is that stems to tokens are one to many: the stem 'run' could be associated with 'ran', 'runs', 'running', etc. For my purposes this is fine--I'm perfectly happy returning the first token associated with the stem I need to look up."
   ]
  },
  {
   "cell_type": "code",
   "execution_count": 15,
   "metadata": {
    "collapsed": false
   },
   "outputs": [
    {
     "name": "stdout",
     "output_type": "stream",
     "text": [
      "there are 297222 items in vocab_frame\n"
     ]
    }
   ],
   "source": [
    "df_vocab = pd.DataFrame({'words': totalvocab_tokenized}, index = totalvocab_stemmed)\n",
    "print 'there are ' + str(df_vocab.shape[0]) + ' items in vocab_frame'"
   ]
  },
  {
   "cell_type": "code",
   "execution_count": 16,
   "metadata": {
    "collapsed": false
   },
   "outputs": [
    {
     "data": {
      "text/html": [
       "<div>\n",
       "<table border=\"1\" class=\"dataframe\">\n",
       "  <thead>\n",
       "    <tr style=\"text-align: right;\">\n",
       "      <th></th>\n",
       "      <th>words</th>\n",
       "    </tr>\n",
       "  </thead>\n",
       "  <tbody>\n",
       "    <tr>\n",
       "      <th>kany</th>\n",
       "      <td>kanye</td>\n",
       "    </tr>\n",
       "    <tr>\n",
       "      <th>omari</th>\n",
       "      <td>omari</td>\n",
       "    </tr>\n",
       "    <tr>\n",
       "      <th>west</th>\n",
       "      <td>west</td>\n",
       "    </tr>\n",
       "    <tr>\n",
       "      <th>knje</th>\n",
       "      <td>knje</td>\n",
       "    </tr>\n",
       "    <tr>\n",
       "      <th>born</th>\n",
       "      <td>born</td>\n",
       "    </tr>\n",
       "    <tr>\n",
       "      <th>june</th>\n",
       "      <td>june</td>\n",
       "    </tr>\n",
       "    <tr>\n",
       "      <th>is</th>\n",
       "      <td>is</td>\n",
       "    </tr>\n",
       "    <tr>\n",
       "      <th>an</th>\n",
       "      <td>an</td>\n",
       "    </tr>\n",
       "    <tr>\n",
       "      <th>american</th>\n",
       "      <td>american</td>\n",
       "    </tr>\n",
       "    <tr>\n",
       "      <th>hip</th>\n",
       "      <td>hip</td>\n",
       "    </tr>\n",
       "  </tbody>\n",
       "</table>\n",
       "</div>"
      ],
      "text/plain": [
       "             words\n",
       "kany         kanye\n",
       "omari        omari\n",
       "west          west\n",
       "knje          knje\n",
       "born          born\n",
       "june          june\n",
       "is              is\n",
       "an              an\n",
       "american  american\n",
       "hip            hip"
      ]
     },
     "execution_count": 16,
     "metadata": {},
     "output_type": "execute_result"
    }
   ],
   "source": [
    "df_vocab.head(10)"
   ]
  },
  {
   "cell_type": "markdown",
   "metadata": {},
   "source": [
    "## Tf-idf and document similarity"
   ]
  },
  {
   "cell_type": "markdown",
   "metadata": {},
   "source": [
    "We now define term frequency-inverse document frequency (tf-idf) vectorizer parameters and then convert the biographies list into a tf-idf matrix.\n",
    "To get a Tf-idf matrix, first count word occurrences by document. This is transformed into a document-term matrix (dtm). This is also just called a term frequency matrix. \n",
    "\n",
    "Then we apply the term frequency-inverse document frequency weighting: words that occur frequently within a document but not frequently within the corpus receive a higher weighting as these words are assumed to contain more meaning in relation to the document.\n",
    "\n",
    "A couple things to note about the parameters defined below:\n",
    "\n",
    "\n",
    "* max_df: this is the maximum frequency within the documents a given feature can have to be used in the tfi-idf matrix. If the term is in greater than 80% of the documents it probably cares little meanining (in the context of biography)\n",
    "\n",
    "\n",
    "* min_idf: this could be an integer (e.g. 10) and the term would have to be in at least 10 of the documents to be considered. Here we set 0.2; the term must be in at least 20% of the document. I found that if I allowed a lower min_df I ended up basing clustering on names--for example \"Michael\" or \"Tom\" are names found in several of the movies and the synopses use these names frequently, but the names carry no real meaning.\n",
    "\n",
    "\n",
    "* ngram_range: this just means I'll look at unigrams, bigrams and trigrams. See n-grams"
   ]
  },
  {
   "cell_type": "code",
   "execution_count": 17,
   "metadata": {
    "collapsed": false
   },
   "outputs": [
    {
     "name": "stdout",
     "output_type": "stream",
     "text": [
      "CPU times: user 15 s, sys: 430 ms, total: 15.4 s\n",
      "Wall time: 15.4 s\n",
      "(98, 837)\n"
     ]
    }
   ],
   "source": [
    "from sklearn.feature_extraction.text import TfidfVectorizer\n",
    "\n",
    "#define vectorizer parameters\n",
    "tfidf_vectorizer = TfidfVectorizer(max_df=0.8, max_features=200000,\n",
    "                                 min_df=0.2, stop_words='english',\n",
    "                                 use_idf=True, tokenizer=tokenize_and_stem, ngram_range=(1,3))\n",
    "\n",
    "%time tfidf_matrix = tfidf_vectorizer.fit_transform(bio_list) \n",
    "\n",
    "print(tfidf_matrix.shape)"
   ]
  },
  {
   "cell_type": "markdown",
   "metadata": {},
   "source": [
    "terms is just a list of the features used in the tf-idf matrix. This is a vocabulary"
   ]
  },
  {
   "cell_type": "code",
   "execution_count": 18,
   "metadata": {
    "collapsed": false
   },
   "outputs": [],
   "source": [
    "terms = tfidf_vectorizer.get_feature_names()"
   ]
  },
  {
   "cell_type": "markdown",
   "metadata": {},
   "source": [
    "dist is defined as 1 - the cosine similarity of each document. Cosine similarity is measured against the tf-idf matrix and can be used to generate a measure of similarity between each document and the other documents in the corpus (each synopsis among the synopses). Subtracting it from 1 provides cosine distance which I will use for plotting on a euclidean (2-dimensional) plane.\n",
    "Note that with dist it is possible to evaluate the similarity of any two or more synopses."
   ]
  },
  {
   "cell_type": "code",
   "execution_count": 20,
   "metadata": {
    "collapsed": false
   },
   "outputs": [
    {
     "name": "stdout",
     "output_type": "stream",
     "text": [
      "[[ 1.          0.12137989  0.10056875  0.12267477  0.11724727  0.02946726\n",
      "   0.07987818  0.07681726  0.22119858  0.14128416  0.14357023  0.38863108\n",
      "   0.0668084   0.08242258  0.05836613  0.10986479  0.10901997  0.07450002\n",
      "   0.21337     0.1594038   0.08017036  0.09578324  0.10619409  0.18144957\n",
      "   0.04247943  0.13209304  0.21653798  0.09486803  0.07544909  0.10872896\n",
      "   0.04489732  0.037568    0.06742528  0.12035229  0.06361824  0.07931862\n",
      "   0.03795291  0.17498671  0.12631652  0.13829129  0.10838675  0.14474439\n",
      "   0.18090745  0.05873735  0.11099938  0.19018556  0.1296375   0.2702697\n",
      "   0.29096769  0.18139804  0.14181359  0.17069845  0.14327044  0.08164754\n",
      "   0.16686195  0.11648858  0.1282623   0.12834493  0.12810672  0.08185056\n",
      "   0.11492289  0.09622739  0.19475166  0.06852516  0.14526798  0.0728491\n",
      "   0.1459278   0.10148671  0.09758603  0.13788356  0.09140074  0.11791386\n",
      "   0.11825799  0.13318767  0.08632453  0.20154264  0.09932248  0.11243909\n",
      "   0.0707526   0.08078039  0.04685949  0.10079747  0.1227406   0.12384887\n",
      "   0.10751712  0.1341762   0.1068058   0.37870148  0.15037441  0.0909867\n",
      "   0.21486091  0.393855    0.11232432  0.10133012  0.15963123  0.07994158\n",
      "   0.18381727  0.18087329]\n",
      " [ 0.12137989  1.          0.09077445  0.16395024  0.05795419  0.07453869\n",
      "   0.06447997  0.08859336  0.13478929  0.20323028  0.10972635  0.1705213\n",
      "   0.05877907  0.11695924  0.04540677  0.23899682  0.14129875  0.05732805\n",
      "   0.16974382  0.09348612  0.03138113  0.11509518  0.07592126  0.1795568\n",
      "   0.03065493  0.06920728  0.20528274  0.06215585  0.08834477  0.071678\n",
      "   0.04495544  0.06068284  0.06340976  0.08763855  0.03079543  0.08146628\n",
      "   0.01610563  0.20462108  0.25259544  0.19793488  0.09714637  0.14218991\n",
      "   0.25783222  0.11398723  0.07292875  0.20675986  0.18351812  0.20876527\n",
      "   0.17720262  0.21554507  0.09878661  0.17587031  0.16563004  0.07631138\n",
      "   0.20225172  0.14891451  0.08340472  0.10454458  0.08599597  0.07536358\n",
      "   0.07920279  0.08342074  0.10122306  0.0493577   0.10803796  0.0686989\n",
      "   0.14431626  0.07629582  0.05760813  0.10807811  0.09071075  0.09368932\n",
      "   0.0854864   0.11673368  0.08214393  0.10107919  0.06435787  0.07721427\n",
      "   0.0406071   0.16203541  0.04648278  0.07881416  0.0674254   0.09386168\n",
      "   0.09391995  0.0556832   0.08555869  0.18059238  0.18125704  0.08081373\n",
      "   0.11963473  0.16791336  0.09469578  0.07773989  0.11744177  0.04163885\n",
      "   0.13552313  0.12042672]\n",
      " [ 0.10056875  0.09077445  1.          0.25617647  0.20836619  0.20439644\n",
      "   0.2753022   0.27012268  0.21835963  0.22302066  0.31871899  0.16852818\n",
      "   0.26545223  0.10412351  0.25729907  0.2857863   0.21476246  0.35220044\n",
      "   0.19355409  0.16938909  0.21534093  0.19110385  0.18052995  0.16774877\n",
      "   0.09680814  0.18245049  0.18471218  0.12728052  0.10011106  0.1488978\n",
      "   0.1366278   0.05904298  0.20462011  0.11882342  0.03026371  0.12384584\n",
      "   0.035191    0.23219039  0.19769222  0.12479668  0.15346103  0.19496644\n",
      "   0.1317178   0.11074215  0.12843215  0.2209678   0.18046542  0.1328902\n",
      "   0.0891998   0.13449839  0.16131102  0.15483708  0.19247778  0.10554996\n",
      "   0.14697472  0.20799034  0.16200503  0.16090765  0.1980753   0.19575746\n",
      "   0.13451844  0.15571266  0.22054531  0.25517056  0.23152065  0.11550877\n",
      "   0.19230641  0.11562809  0.1338708   0.24745515  0.08603724  0.15085163\n",
      "   0.21855724  0.12466868  0.07084305  0.16549926  0.12892442  0.11128715\n",
      "   0.12022284  0.21974855  0.13128884  0.12696114  0.16784755  0.18514269\n",
      "   0.19408374  0.16289128  0.13331032  0.12040454  0.27425163  0.06380502\n",
      "   0.1141058   0.11827063  0.12226227  0.12119559  0.19904696  0.12212602\n",
      "   0.20095252  0.19100658]\n",
      " [ 0.12267477  0.16395024  0.25617647  1.          0.32600226  0.17728226\n",
      "   0.29235478  0.2442003   0.30114957  0.17707228  0.35837623  0.23346035\n",
      "   0.21677249  0.13574346  0.28038605  0.50752678  0.36528604  0.25355714\n",
      "   0.24419871  0.25913042  0.10204265  0.28397256  0.27339786  0.16178301\n",
      "   0.09887981  0.17280681  0.20126995  0.17402566  0.14907909  0.21545597\n",
      "   0.12187616  0.13000713  0.16976942  0.09877613  0.15363873  0.08958581\n",
      "   0.09192664  0.17950349  0.17019856  0.14571136  0.07684556  0.07007898\n",
      "   0.15116611  0.0739891   0.17263978  0.14408227  0.13466413  0.15124524\n",
      "   0.1431195   0.14041972  0.13715484  0.16774519  0.14212401  0.08863143\n",
      "   0.21073528  0.19858794  0.28693387  0.22297423  0.28688096  0.12112868\n",
      "   0.27864208  0.20261767  0.33996159  0.23650965  0.24801526  0.22682753\n",
      "   0.32022614  0.19136199  0.23729689  0.31929373  0.15246968  0.24718626\n",
      "   0.34689351  0.243665    0.18516607  0.31839023  0.18238278  0.23217761\n",
      "   0.18146749  0.28757709  0.18544229  0.21421598  0.23784048  0.26557786\n",
      "   0.24569646  0.16391126  0.20124325  0.2119076   0.25855733  0.12440576\n",
      "   0.14489895  0.15240897  0.19643758  0.14903681  0.21904216  0.12124994\n",
      "   0.27485533  0.31110018]\n",
      " [ 0.11724727  0.05795419  0.20836619  0.32600226  1.          0.02900834\n",
      "   0.33631134  0.13996817  0.23150711  0.13334764  0.27247237  0.26720067\n",
      "   0.14671308  0.0973141   0.40041569  0.36607375  0.35232372  0.27709991\n",
      "   0.21550841  0.16712497  0.11971013  0.19359518  0.28900919  0.12369555\n",
      "   0.11883647  0.18399047  0.18380613  0.15392821  0.23115578  0.15321555\n",
      "   0.0984896   0.06826735  0.16305916  0.13893844  0.10273628  0.09506964\n",
      "   0.06462607  0.14231985  0.12014535  0.0907615   0.06961679  0.07262765\n",
      "   0.12053605  0.07637665  0.16838533  0.09726312  0.11421181  0.13901738\n",
      "   0.11050826  0.11268526  0.10283941  0.10779039  0.12262704  0.0635182\n",
      "   0.19525902  0.17763888  0.18437     0.19174937  0.26427707  0.15090471\n",
      "   0.2108024   0.12199405  0.26483576  0.14352642  0.19832952  0.14609681\n",
      "   0.22122232  0.14650749  0.20930259  0.24540364  0.1528317   0.14001007\n",
      "   0.22532861  0.19566228  0.1954466   0.24521818  0.14611746  0.12583597\n",
      "   0.09775779  0.10546807  0.16916904  0.16786644  0.14863641  0.20010934\n",
      "   0.19573753  0.13489736  0.14482839  0.15067362  0.21831774  0.06901459\n",
      "   0.1175642   0.16265247  0.23127662  0.10413823  0.21899739  0.11026362\n",
      "   0.21300823  0.27004754]]\n"
     ]
    }
   ],
   "source": [
    "from sklearn.metrics.pairwise import cosine_similarity\n",
    "dist = cosine_similarity(tfidf_matrix)\n",
    "print dist[:5][:5]"
   ]
  },
  {
   "cell_type": "markdown",
   "metadata": {},
   "source": [
    "## K-means clustering"
   ]
  },
  {
   "cell_type": "markdown",
   "metadata": {},
   "source": [
    "Using the tf-idf matrix, you can run a slew of clustering algorithms to better understand the hidden structure within the biographies. I first chose k-means. K-means initializes with a pre-determined number of clusters (I chose 5). Each observation is assigned to a cluster (cluster assignment) so as to minimize the within cluster sum of squares. Next, the mean of the clustered observations is calculated and used as the new cluster centroid. Then, observations are reassigned to clusters and centroids recalculated in an iterative process until the algorithm reaches convergence."
   ]
  },
  {
   "cell_type": "code",
   "execution_count": 21,
   "metadata": {
    "collapsed": false
   },
   "outputs": [
    {
     "name": "stdout",
     "output_type": "stream",
     "text": [
      "CPU times: user 385 ms, sys: 4.18 ms, total: 389 ms\n",
      "Wall time: 204 ms\n"
     ]
    }
   ],
   "source": [
    "from sklearn.cluster import KMeans\n",
    "\n",
    "num_clusters = 5\n",
    "\n",
    "k_means = KMeans(n_clusters=num_clusters)\n",
    "\n",
    "%time k_means.fit(tfidf_matrix)\n",
    "\n",
    "clusters = k_means.labels_.tolist()"
   ]
  },
  {
   "cell_type": "markdown",
   "metadata": {},
   "source": [
    "I use joblib.dump to pickle the model, once it has converged and to reload the model/reassign the labels as the clusters."
   ]
  },
  {
   "cell_type": "code",
   "execution_count": 22,
   "metadata": {
    "collapsed": true
   },
   "outputs": [],
   "source": [
    "from sklearn.externals import joblib\n",
    "\n",
    "#uncomment the below to save your model \n",
    "#since I've already run my model I am loading from the pickle\n",
    "\n",
    "joblib.dump(k_means,  'doc_cluster.pkl')\n",
    "\n",
    "#k_means = joblib.load('doc_cluster.pkl')\n",
    "clusters = k_means.labels_.tolist()"
   ]
  },
  {
   "cell_type": "markdown",
   "metadata": {},
   "source": [
    "We create a dictionary and convert this dictionary to a Pandas DataFrame for easy access. "
   ]
  },
  {
   "cell_type": "code",
   "execution_count": 24,
   "metadata": {
    "collapsed": true
   },
   "outputs": [],
   "source": [
    "people = {'name': names , 'biography': bio_list, 'cluster': clusters,'category': category_list }\n",
    "\n",
    "df = pd.DataFrame(people,index = [clusters] ,  columns = ['name', 'cluster','category'])\n",
    "#df = pd.DataFrame(people ,  columns = ['name', 'cluster','category'])"
   ]
  },
  {
   "cell_type": "code",
   "execution_count": 25,
   "metadata": {
    "collapsed": false
   },
   "outputs": [
    {
     "data": {
      "text/html": [
       "<div>\n",
       "<table border=\"1\" class=\"dataframe\">\n",
       "  <thead>\n",
       "    <tr style=\"text-align: right;\">\n",
       "      <th></th>\n",
       "      <th>name</th>\n",
       "      <th>cluster</th>\n",
       "      <th>category</th>\n",
       "    </tr>\n",
       "  </thead>\n",
       "  <tbody>\n",
       "    <tr>\n",
       "      <th>1</th>\n",
       "      <td>Kayne West</td>\n",
       "      <td>1</td>\n",
       "      <td>Titan</td>\n",
       "    </tr>\n",
       "    <tr>\n",
       "      <th>1</th>\n",
       "      <td>Lorne Michaels</td>\n",
       "      <td>1</td>\n",
       "      <td>Titan</td>\n",
       "    </tr>\n",
       "    <tr>\n",
       "      <th>2</th>\n",
       "      <td>Mellody Hobson</td>\n",
       "      <td>2</td>\n",
       "      <td>Titan</td>\n",
       "    </tr>\n",
       "    <tr>\n",
       "      <th>2</th>\n",
       "      <td>Tim Cook</td>\n",
       "      <td>2</td>\n",
       "      <td>Titan</td>\n",
       "    </tr>\n",
       "    <tr>\n",
       "      <th>2</th>\n",
       "      <td>Elizabeth Holmes</td>\n",
       "      <td>2</td>\n",
       "      <td>Titan</td>\n",
       "    </tr>\n",
       "    <tr>\n",
       "      <th>2</th>\n",
       "      <td>Charles Koch &amp; David Koch</td>\n",
       "      <td>2</td>\n",
       "      <td>Titan</td>\n",
       "    </tr>\n",
       "    <tr>\n",
       "      <th>2</th>\n",
       "      <td>Susan Wojcicki</td>\n",
       "      <td>2</td>\n",
       "      <td>Titan</td>\n",
       "    </tr>\n",
       "    <tr>\n",
       "      <th>2</th>\n",
       "      <td>Chanda Kochhar</td>\n",
       "      <td>2</td>\n",
       "      <td>Titan</td>\n",
       "    </tr>\n",
       "    <tr>\n",
       "      <th>1</th>\n",
       "      <td>Tony Fernandes</td>\n",
       "      <td>1</td>\n",
       "      <td>Titan</td>\n",
       "    </tr>\n",
       "    <tr>\n",
       "      <th>4</th>\n",
       "      <td>Lee Daniels</td>\n",
       "      <td>4</td>\n",
       "      <td>Titan</td>\n",
       "    </tr>\n",
       "    <tr>\n",
       "      <th>3</th>\n",
       "      <td>Reid Hoffman</td>\n",
       "      <td>3</td>\n",
       "      <td>Titan</td>\n",
       "    </tr>\n",
       "    <tr>\n",
       "      <th>1</th>\n",
       "      <td>Kim Kardashian</td>\n",
       "      <td>1</td>\n",
       "      <td>Titan</td>\n",
       "    </tr>\n",
       "    <tr>\n",
       "      <th>2</th>\n",
       "      <td>Janet Yellen</td>\n",
       "      <td>2</td>\n",
       "      <td>Titan</td>\n",
       "    </tr>\n",
       "    <tr>\n",
       "      <th>3</th>\n",
       "      <td>Danny Meyer</td>\n",
       "      <td>3</td>\n",
       "      <td>Titan</td>\n",
       "    </tr>\n",
       "    <tr>\n",
       "      <th>2</th>\n",
       "      <td>Lei Jun</td>\n",
       "      <td>2</td>\n",
       "      <td>Titan</td>\n",
       "    </tr>\n",
       "    <tr>\n",
       "      <th>2</th>\n",
       "      <td>Bob Iger</td>\n",
       "      <td>2</td>\n",
       "      <td>Titan</td>\n",
       "    </tr>\n",
       "    <tr>\n",
       "      <th>2</th>\n",
       "      <td>Satya Nadella</td>\n",
       "      <td>2</td>\n",
       "      <td>Titan</td>\n",
       "    </tr>\n",
       "    <tr>\n",
       "      <th>2</th>\n",
       "      <td>Jorge Paulo Lemann</td>\n",
       "      <td>2</td>\n",
       "      <td>Titan</td>\n",
       "    </tr>\n",
       "    <tr>\n",
       "      <th>1</th>\n",
       "      <td>Misty Copeland</td>\n",
       "      <td>1</td>\n",
       "      <td>Pioneer</td>\n",
       "    </tr>\n",
       "    <tr>\n",
       "      <th>1</th>\n",
       "      <td>Scott Kelly (astronaut)</td>\n",
       "      <td>1</td>\n",
       "      <td>Pioneer</td>\n",
       "    </tr>\n",
       "  </tbody>\n",
       "</table>\n",
       "</div>"
      ],
      "text/plain": [
       "                        name  cluster category\n",
       "1                Kayne West         1    Titan\n",
       "1             Lorne Michaels        1    Titan\n",
       "2             Mellody Hobson        2    Titan\n",
       "2                   Tim Cook        2    Titan\n",
       "2           Elizabeth Holmes        2    Titan\n",
       "2  Charles Koch & David Koch        2    Titan\n",
       "2             Susan Wojcicki        2    Titan\n",
       "2             Chanda Kochhar        2    Titan\n",
       "1             Tony Fernandes        1    Titan\n",
       "4                Lee Daniels        4    Titan\n",
       "3               Reid Hoffman        3    Titan\n",
       "1             Kim Kardashian        1    Titan\n",
       "2               Janet Yellen        2    Titan\n",
       "3                Danny Meyer        3    Titan\n",
       "2                    Lei Jun        2    Titan\n",
       "2                   Bob Iger        2    Titan\n",
       "2              Satya Nadella        2    Titan\n",
       "2         Jorge Paulo Lemann        2    Titan\n",
       "1             Misty Copeland        1  Pioneer\n",
       "1    Scott Kelly (astronaut)        1  Pioneer"
      ]
     },
     "execution_count": 25,
     "metadata": {},
     "output_type": "execute_result"
    }
   ],
   "source": [
    "df.head(20)"
   ]
  },
  {
   "cell_type": "markdown",
   "metadata": {},
   "source": [
    "Number of people per cluster"
   ]
  },
  {
   "cell_type": "code",
   "execution_count": 26,
   "metadata": {
    "collapsed": false
   },
   "outputs": [
    {
     "data": {
      "text/plain": [
       "0    28\n",
       "3    24\n",
       "1    21\n",
       "2    13\n",
       "4    12\n",
       "dtype: int64"
      ]
     },
     "execution_count": 26,
     "metadata": {},
     "output_type": "execute_result"
    }
   ],
   "source": [
    "df['cluster'].value_counts()"
   ]
  },
  {
   "cell_type": "code",
   "execution_count": 27,
   "metadata": {
    "collapsed": false
   },
   "outputs": [
    {
     "data": {
      "text/plain": [
       "name\n",
       "Abby Wambach                 1\n",
       "Abubakar Shekau              0\n",
       "Adam Silver                  3\n",
       "Alexander Wang (designer)    3\n",
       "Alexis Tsipras               0\n",
       "Amy Shumer                   4\n",
       "Angela Merkel                0\n",
       "Anita Sarkeesian             1\n",
       "Audra McDonald               1\n",
       "Aura Elena Farfan            3\n",
       "Barack Obama                 0\n",
       "Beji Caid Essebsi            0\n",
       "Benjamin Netenyahu           0\n",
       "Bjork                        1\n",
       "Bob Corker                   0\n",
       "Bob Iger                     2\n",
       "Bradley Cooper               4\n",
       "Brian Chesky                 2\n",
       "Bryan Stevenson              3\n",
       "Chai Jing                    3\n",
       "Chanda Kochhar               2\n",
       "Charles Koch & David Koch    2\n",
       "Chimamanda Ngozi Adichie     1\n",
       "Chris Ofili                  1\n",
       "Chris Pratt                  4\n",
       "Christopher Nolan            4\n",
       "Danny Meyer                  3\n",
       "Diane von Furstenberg        3\n",
       "Elizabeth Holmes             2\n",
       "Elizabeth Warren             0\n",
       "                            ..\n",
       "Mitch McConnell              0\n",
       "Mohammad Javad Zarif         0\n",
       "Muhammadu Buhari             0\n",
       "Mustafa Hassan               1\n",
       "Narendra Modi                0\n",
       "Obiageli Ezekwesili          0\n",
       "Pardis Sabeti                2\n",
       "Pope Francis                 0\n",
       "Raul Castro                  0\n",
       "Reese Witherspoon            4\n",
       "Reid Hoffman                 3\n",
       "Richard Linklater            4\n",
       "Rudolph Tanzi                1\n",
       "Rula Ghani                   3\n",
       "Ruth Bader Ginsburg          3\n",
       "Samantha Power               0\n",
       "Sarah Koenig                 3\n",
       "Satya Nadella                2\n",
       "Scott Kelly (astronaut)      1\n",
       "Susan Wojcicki               2\n",
       "Taylor Swift                 1\n",
       "Thomas Piketty               0\n",
       "Tim Cook                     2\n",
       "Tim McGraw                   1\n",
       "Tom Catena                   1\n",
       "Tom Frieden                  3\n",
       "Tony Fernandes               1\n",
       "Vikram Patel                 3\n",
       "Vladimir Putin               0\n",
       "Xi Jinping                   0\n",
       "Name: cluster, dtype: int64"
      ]
     },
     "execution_count": 27,
     "metadata": {},
     "output_type": "execute_result"
    }
   ],
   "source": [
    "grouped = df['cluster'].groupby(df['name']) #groupby cluster for aggregation purposes\n",
    "grouped.mean() #average rank (1 to 100) per cluster"
   ]
  },
  {
   "cell_type": "markdown",
   "metadata": {},
   "source": [
    "We do some indexing and sorting on each cluster to identify which are the top n (say n=5) words that are nearest to the cluster centroid. This gives a good sense of the main topic of the cluster."
   ]
  },
  {
   "cell_type": "code",
   "execution_count": 28,
   "metadata": {
    "collapsed": false
   },
   "outputs": [
    {
     "name": "stdout",
     "output_type": "stream",
     "text": [
      "Top terms per cluster:\n",
      "\n",
      "Cluster 0 words: elective, state, ministers, party,\n",
      "\n",
      "Cluster 0 names: Narendra Modi, Angela Merkel, Bob Corker, Muhammadu Buhari, Alexis Tsipras, Vladimir Putin, Obiageli Ezekwesili, Elizabeth Warren, Haider al-Abadi, Joko Widodo, King Salman bin Abdulaziz Al Saud, Xi Jinping, Jeb bush, Samantha Power , Raul Castro, Kim Jong Un, Abubakar Shekau, Benjamin Netenyahu, Hillary Clinton, Beji Caid Essebsi, Lu Wei (politician), Marine Le Pen, Barack Obama, Mitch McConnell, Mohammad Javad Zarif, Jerry Brown, Thomas Piketty, Pope Francis ,\n",
      "\n",
      "Cluster 1 words: award, musical, song, performed,\n",
      "\n",
      "Cluster 1 names: Kayne West , Lorne Michaels, Tony Fernandes, Kim Kardashian, Misty Copeland, Scott Kelly (astronaut), Anita Sarkeesian, Tom Catena, Rudolph Tanzi, Mustafa Hassan, Laverne Cox, Chris Ofili, Audra McDonald, Tim McGraw, Chimamanda Ngozi Adichie, Taylor Swift, Gabriel Medina, Haruki Murakami, Bjork, Abby Wambach, Malala Yousafzai,\n",
      "\n",
      "Cluster 2 words: company, billion, president, busy,\n",
      "\n",
      "Cluster 2 names: Mellody Hobson, Tim Cook, Elizabeth Holmes, Charles Koch & David Koch, Susan Wojcicki, Chanda Kochhar, Janet Yellen, Lei Jun, Bob Iger, Satya Nadella, Jorge Paulo Lemann, Brian Chesky, Pardis Sabeti,\n",
      "\n",
      "Cluster 3 words: new, york, health, state,\n",
      "\n",
      "Cluster 3 names: Reid Hoffman, Danny Meyer, Emmanuelle Charpentier & Jennifer Doudna, Jimmy Lai, Vikram Patel, Bryan Stevenson, Chai Jing, Magnus MacFarlane-Barrow, Kira Orange Jones, Aura Elena Farfan, Martin Blaser, Sarah Koenig, Alexander Wang (designer), Marie Kondo, John Oliver (comedian), Jorge Ramos (news anchor), Rula Ghani, Tom Frieden, Martin Dempsey, Adam Silver, Joanne Liu, Ruth Bader Ginsburg, Diane von Furstenberg, Ina Garten,\n",
      "\n",
      "Cluster 4 words: film, award, star, role,\n",
      "\n",
      "Cluster 4 names: Lee Daniels, Emma Watson, Reese Witherspoon, Bradley Cooper, Richard Linklater, Julianna Margulies, Amy Shumer, Jill Soloway, Chris Pratt, Kevin Hart, Julianne Moore, Christopher Nolan,\n",
      "\n",
      "\n",
      "\n"
     ]
    }
   ],
   "source": [
    "from __future__ import print_function\n",
    "\n",
    "print(\"Top terms per cluster:\")\n",
    "print()\n",
    "#sort cluster centers by proximity to centroid\n",
    "order_centroids = k_means.cluster_centers_.argsort()[:, ::-1] \n",
    "\n",
    "for i in range(num_clusters):\n",
    "    print(\"Cluster %d words:\" % i, end='')\n",
    "    \n",
    "    for ind in order_centroids[i, :4]: \n",
    "        print(' %s' % df_vocab.ix[terms[ind].split(' ')].values.tolist()[0][0].encode('utf-8',\n",
    "                                                                                      'ignore'),\n",
    "              end=',')\n",
    "    print() #add whitespace\n",
    "    print() #add whitespace\n",
    "    \n",
    "    print(\"Cluster %d names:\" % i, end='')\n",
    "    for name in df.ix[i]['name'].values.tolist():\n",
    "        print(' %s,' % name, end='')\n",
    "    print() #add whitespace\n",
    "    print() #add whitespace\n",
    "    \n",
    "print()\n",
    "print()"
   ]
  },
  {
   "cell_type": "markdown",
   "metadata": {},
   "source": [
    "## Visualizing document clusters"
   ]
  },
  {
   "cell_type": "markdown",
   "metadata": {},
   "source": [
    "Visualization of clusters to be continued..."
   ]
  }
 ],
 "metadata": {
  "kernelspec": {
   "display_name": "Python 2",
   "language": "python",
   "name": "python2"
  },
  "language_info": {
   "codemirror_mode": {
    "name": "ipython",
    "version": 2
   },
   "file_extension": ".py",
   "mimetype": "text/x-python",
   "name": "python",
   "nbconvert_exporter": "python",
   "pygments_lexer": "ipython2",
   "version": "2.7.9"
  }
 },
 "nbformat": 4,
 "nbformat_minor": 0
}
